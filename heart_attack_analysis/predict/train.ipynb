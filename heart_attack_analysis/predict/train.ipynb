{
 "cells": [
  {
   "cell_type": "markdown",
   "id": "e4118fa5",
   "metadata": {},
   "source": [
    "# Подгрузка библиотек и датасета"
   ]
  },
  {
   "cell_type": "code",
   "execution_count": 1,
   "id": "b29e9ef7",
   "metadata": {},
   "outputs": [
    {
     "name": "stderr",
     "output_type": "stream",
     "text": [
      "<frozen importlib._bootstrap>:228: RuntimeWarning: scipy._lib.messagestream.MessageStream size changed, may indicate binary incompatibility. Expected 56 from C header, got 64 from PyObject\n",
      "C:\\Users\\Nurlan\\anaconda\\envs\\coursework\\lib\\site-packages\\xgboost\\compat.py:36: FutureWarning: pandas.Int64Index is deprecated and will be removed from pandas in a future version. Use pandas.Index with the appropriate dtype instead.\n",
      "  from pandas import MultiIndex, Int64Index\n"
     ]
    }
   ],
   "source": [
    "import numpy as np\n",
    "import pandas as pd\n",
    "import pickle\n",
    "import seaborn as sns\n",
    "from matplotlib import pyplot as plt\n",
    "from matplotlib import rcParams\n",
    "\n",
    "from sklearn.model_selection import train_test_split, cross_val_score, GridSearchCV\n",
    "from sklearn.preprocessing import MinMaxScaler\n",
    "from sklearn.pipeline import Pipeline\n",
    "from sklearn.linear_model import LogisticRegression\n",
    "from sklearn.svm import LinearSVC\n",
    "from sklearn.ensemble import RandomForestClassifier\n",
    "from sklearn.ensemble import VotingClassifier\n",
    "from sklearn.neighbors import KNeighborsClassifier\n",
    "from sklearn.metrics import classification_report\n",
    "from sklearn.metrics import accuracy_score\n",
    "\n",
    "import xgboost as xgb\n",
    "from hyperopt import STATUS_OK, Trials, fmin, hp, tpe"
   ]
  },
  {
   "cell_type": "code",
   "execution_count": 2,
   "id": "cc7083a0",
   "metadata": {},
   "outputs": [],
   "source": [
    "df = pd.read_csv(\"cardio_train.csv\",sep=\";\")"
   ]
  },
  {
   "cell_type": "code",
   "execution_count": 3,
   "id": "ed54777a",
   "metadata": {},
   "outputs": [],
   "source": [
    "df.drop(\"id\",axis=1,inplace=True)\n",
    "df.drop_duplicates(inplace=True)"
   ]
  },
  {
   "cell_type": "markdown",
   "id": "39e158e3",
   "metadata": {},
   "source": [
    "# Анализ датасета"
   ]
  },
  {
   "cell_type": "code",
   "execution_count": 4,
   "id": "b6c62c22",
   "metadata": {},
   "outputs": [
    {
     "data": {
      "text/html": [
       "<div>\n",
       "<style scoped>\n",
       "    .dataframe tbody tr th:only-of-type {\n",
       "        vertical-align: middle;\n",
       "    }\n",
       "\n",
       "    .dataframe tbody tr th {\n",
       "        vertical-align: top;\n",
       "    }\n",
       "\n",
       "    .dataframe thead th {\n",
       "        text-align: right;\n",
       "    }\n",
       "</style>\n",
       "<table border=\"1\" class=\"dataframe\">\n",
       "  <thead>\n",
       "    <tr style=\"text-align: right;\">\n",
       "      <th></th>\n",
       "      <th>age</th>\n",
       "      <th>gender</th>\n",
       "      <th>height</th>\n",
       "      <th>weight</th>\n",
       "      <th>ap_hi</th>\n",
       "      <th>ap_lo</th>\n",
       "      <th>cholesterol</th>\n",
       "      <th>gluc</th>\n",
       "      <th>smoke</th>\n",
       "      <th>alco</th>\n",
       "      <th>active</th>\n",
       "      <th>cardio</th>\n",
       "    </tr>\n",
       "  </thead>\n",
       "  <tbody>\n",
       "    <tr>\n",
       "      <th>0</th>\n",
       "      <td>18393</td>\n",
       "      <td>2</td>\n",
       "      <td>168</td>\n",
       "      <td>62.0</td>\n",
       "      <td>110</td>\n",
       "      <td>80</td>\n",
       "      <td>1</td>\n",
       "      <td>1</td>\n",
       "      <td>0</td>\n",
       "      <td>0</td>\n",
       "      <td>1</td>\n",
       "      <td>0</td>\n",
       "    </tr>\n",
       "    <tr>\n",
       "      <th>1</th>\n",
       "      <td>20228</td>\n",
       "      <td>1</td>\n",
       "      <td>156</td>\n",
       "      <td>85.0</td>\n",
       "      <td>140</td>\n",
       "      <td>90</td>\n",
       "      <td>3</td>\n",
       "      <td>1</td>\n",
       "      <td>0</td>\n",
       "      <td>0</td>\n",
       "      <td>1</td>\n",
       "      <td>1</td>\n",
       "    </tr>\n",
       "    <tr>\n",
       "      <th>2</th>\n",
       "      <td>18857</td>\n",
       "      <td>1</td>\n",
       "      <td>165</td>\n",
       "      <td>64.0</td>\n",
       "      <td>130</td>\n",
       "      <td>70</td>\n",
       "      <td>3</td>\n",
       "      <td>1</td>\n",
       "      <td>0</td>\n",
       "      <td>0</td>\n",
       "      <td>0</td>\n",
       "      <td>1</td>\n",
       "    </tr>\n",
       "    <tr>\n",
       "      <th>3</th>\n",
       "      <td>17623</td>\n",
       "      <td>2</td>\n",
       "      <td>169</td>\n",
       "      <td>82.0</td>\n",
       "      <td>150</td>\n",
       "      <td>100</td>\n",
       "      <td>1</td>\n",
       "      <td>1</td>\n",
       "      <td>0</td>\n",
       "      <td>0</td>\n",
       "      <td>1</td>\n",
       "      <td>1</td>\n",
       "    </tr>\n",
       "    <tr>\n",
       "      <th>4</th>\n",
       "      <td>17474</td>\n",
       "      <td>1</td>\n",
       "      <td>156</td>\n",
       "      <td>56.0</td>\n",
       "      <td>100</td>\n",
       "      <td>60</td>\n",
       "      <td>1</td>\n",
       "      <td>1</td>\n",
       "      <td>0</td>\n",
       "      <td>0</td>\n",
       "      <td>0</td>\n",
       "      <td>0</td>\n",
       "    </tr>\n",
       "  </tbody>\n",
       "</table>\n",
       "</div>"
      ],
      "text/plain": [
       "     age  gender  height  weight  ap_hi  ap_lo  cholesterol  gluc  smoke  \\\n",
       "0  18393       2     168    62.0    110     80            1     1      0   \n",
       "1  20228       1     156    85.0    140     90            3     1      0   \n",
       "2  18857       1     165    64.0    130     70            3     1      0   \n",
       "3  17623       2     169    82.0    150    100            1     1      0   \n",
       "4  17474       1     156    56.0    100     60            1     1      0   \n",
       "\n",
       "   alco  active  cardio  \n",
       "0     0       1       0  \n",
       "1     0       1       1  \n",
       "2     0       0       1  \n",
       "3     0       1       1  \n",
       "4     0       0       0  "
      ]
     },
     "execution_count": 4,
     "metadata": {},
     "output_type": "execute_result"
    }
   ],
   "source": [
    "df.head()"
   ]
  },
  {
   "cell_type": "markdown",
   "id": "cea39184",
   "metadata": {},
   "source": [
    "Чтобы изучить все наши переменные, сначала мы должны посмотреть на их типы данных."
   ]
  },
  {
   "cell_type": "code",
   "execution_count": 5,
   "id": "2575a784",
   "metadata": {},
   "outputs": [
    {
     "name": "stdout",
     "output_type": "stream",
     "text": [
      "<class 'pandas.core.frame.DataFrame'>\n",
      "Int64Index: 69976 entries, 0 to 69999\n",
      "Data columns (total 12 columns):\n",
      " #   Column       Non-Null Count  Dtype  \n",
      "---  ------       --------------  -----  \n",
      " 0   age          69976 non-null  int64  \n",
      " 1   gender       69976 non-null  int64  \n",
      " 2   height       69976 non-null  int64  \n",
      " 3   weight       69976 non-null  float64\n",
      " 4   ap_hi        69976 non-null  int64  \n",
      " 5   ap_lo        69976 non-null  int64  \n",
      " 6   cholesterol  69976 non-null  int64  \n",
      " 7   gluc         69976 non-null  int64  \n",
      " 8   smoke        69976 non-null  int64  \n",
      " 9   alco         69976 non-null  int64  \n",
      " 10  active       69976 non-null  int64  \n",
      " 11  cardio       69976 non-null  int64  \n",
      "dtypes: float64(1), int64(11)\n",
      "memory usage: 6.9 MB\n"
     ]
    }
   ],
   "source": [
    "df.info()"
   ]
  },
  {
   "cell_type": "markdown",
   "id": "7ffdc7a0",
   "metadata": {},
   "source": [
    "Видно, что в датасете пропущенных значений нет\n",
    "\n",
    "Все признаки количественные, 12 целых и 1 вещественных (вес). Второй столбец дает нам представление о том, насколько велик набор данных и сколько ненулевых значений имеется для каждого поля. Мы можем использовать describe() для отображения выборочной статистики, такой как минимум, максимум, среднее, стандартное отклонение для каждого атрибута:"
   ]
  },
  {
   "cell_type": "code",
   "execution_count": 6,
   "id": "6045573e",
   "metadata": {
    "scrolled": false
   },
   "outputs": [
    {
     "data": {
      "text/html": [
       "<div>\n",
       "<style scoped>\n",
       "    .dataframe tbody tr th:only-of-type {\n",
       "        vertical-align: middle;\n",
       "    }\n",
       "\n",
       "    .dataframe tbody tr th {\n",
       "        vertical-align: top;\n",
       "    }\n",
       "\n",
       "    .dataframe thead th {\n",
       "        text-align: right;\n",
       "    }\n",
       "</style>\n",
       "<table border=\"1\" class=\"dataframe\">\n",
       "  <thead>\n",
       "    <tr style=\"text-align: right;\">\n",
       "      <th></th>\n",
       "      <th>age</th>\n",
       "      <th>gender</th>\n",
       "      <th>height</th>\n",
       "      <th>weight</th>\n",
       "      <th>ap_hi</th>\n",
       "      <th>ap_lo</th>\n",
       "      <th>cholesterol</th>\n",
       "      <th>gluc</th>\n",
       "      <th>smoke</th>\n",
       "      <th>alco</th>\n",
       "      <th>active</th>\n",
       "      <th>cardio</th>\n",
       "    </tr>\n",
       "  </thead>\n",
       "  <tbody>\n",
       "    <tr>\n",
       "      <th>count</th>\n",
       "      <td>69976.000000</td>\n",
       "      <td>69976.000000</td>\n",
       "      <td>69976.000000</td>\n",
       "      <td>69976.000000</td>\n",
       "      <td>69976.000000</td>\n",
       "      <td>69976.000000</td>\n",
       "      <td>69976.000000</td>\n",
       "      <td>69976.000000</td>\n",
       "      <td>69976.000000</td>\n",
       "      <td>69976.000000</td>\n",
       "      <td>69976.000000</td>\n",
       "      <td>69976.000000</td>\n",
       "    </tr>\n",
       "    <tr>\n",
       "      <th>mean</th>\n",
       "      <td>19468.950126</td>\n",
       "      <td>1.349648</td>\n",
       "      <td>164.359152</td>\n",
       "      <td>74.208519</td>\n",
       "      <td>128.820453</td>\n",
       "      <td>96.636261</td>\n",
       "      <td>1.366997</td>\n",
       "      <td>1.226535</td>\n",
       "      <td>0.088159</td>\n",
       "      <td>0.053790</td>\n",
       "      <td>0.803718</td>\n",
       "      <td>0.499771</td>\n",
       "    </tr>\n",
       "    <tr>\n",
       "      <th>std</th>\n",
       "      <td>2467.374620</td>\n",
       "      <td>0.476862</td>\n",
       "      <td>8.211218</td>\n",
       "      <td>14.397211</td>\n",
       "      <td>154.037729</td>\n",
       "      <td>188.504581</td>\n",
       "      <td>0.680333</td>\n",
       "      <td>0.572353</td>\n",
       "      <td>0.283528</td>\n",
       "      <td>0.225604</td>\n",
       "      <td>0.397187</td>\n",
       "      <td>0.500004</td>\n",
       "    </tr>\n",
       "    <tr>\n",
       "      <th>min</th>\n",
       "      <td>10798.000000</td>\n",
       "      <td>1.000000</td>\n",
       "      <td>55.000000</td>\n",
       "      <td>10.000000</td>\n",
       "      <td>-150.000000</td>\n",
       "      <td>-70.000000</td>\n",
       "      <td>1.000000</td>\n",
       "      <td>1.000000</td>\n",
       "      <td>0.000000</td>\n",
       "      <td>0.000000</td>\n",
       "      <td>0.000000</td>\n",
       "      <td>0.000000</td>\n",
       "    </tr>\n",
       "    <tr>\n",
       "      <th>25%</th>\n",
       "      <td>17664.000000</td>\n",
       "      <td>1.000000</td>\n",
       "      <td>159.000000</td>\n",
       "      <td>65.000000</td>\n",
       "      <td>120.000000</td>\n",
       "      <td>80.000000</td>\n",
       "      <td>1.000000</td>\n",
       "      <td>1.000000</td>\n",
       "      <td>0.000000</td>\n",
       "      <td>0.000000</td>\n",
       "      <td>1.000000</td>\n",
       "      <td>0.000000</td>\n",
       "    </tr>\n",
       "    <tr>\n",
       "      <th>50%</th>\n",
       "      <td>19703.000000</td>\n",
       "      <td>1.000000</td>\n",
       "      <td>165.000000</td>\n",
       "      <td>72.000000</td>\n",
       "      <td>120.000000</td>\n",
       "      <td>80.000000</td>\n",
       "      <td>1.000000</td>\n",
       "      <td>1.000000</td>\n",
       "      <td>0.000000</td>\n",
       "      <td>0.000000</td>\n",
       "      <td>1.000000</td>\n",
       "      <td>0.000000</td>\n",
       "    </tr>\n",
       "    <tr>\n",
       "      <th>75%</th>\n",
       "      <td>21327.000000</td>\n",
       "      <td>2.000000</td>\n",
       "      <td>170.000000</td>\n",
       "      <td>82.000000</td>\n",
       "      <td>140.000000</td>\n",
       "      <td>90.000000</td>\n",
       "      <td>2.000000</td>\n",
       "      <td>1.000000</td>\n",
       "      <td>0.000000</td>\n",
       "      <td>0.000000</td>\n",
       "      <td>1.000000</td>\n",
       "      <td>1.000000</td>\n",
       "    </tr>\n",
       "    <tr>\n",
       "      <th>max</th>\n",
       "      <td>23713.000000</td>\n",
       "      <td>2.000000</td>\n",
       "      <td>250.000000</td>\n",
       "      <td>200.000000</td>\n",
       "      <td>16020.000000</td>\n",
       "      <td>11000.000000</td>\n",
       "      <td>3.000000</td>\n",
       "      <td>3.000000</td>\n",
       "      <td>1.000000</td>\n",
       "      <td>1.000000</td>\n",
       "      <td>1.000000</td>\n",
       "      <td>1.000000</td>\n",
       "    </tr>\n",
       "  </tbody>\n",
       "</table>\n",
       "</div>"
      ],
      "text/plain": [
       "                age        gender        height        weight         ap_hi  \\\n",
       "count  69976.000000  69976.000000  69976.000000  69976.000000  69976.000000   \n",
       "mean   19468.950126      1.349648    164.359152     74.208519    128.820453   \n",
       "std     2467.374620      0.476862      8.211218     14.397211    154.037729   \n",
       "min    10798.000000      1.000000     55.000000     10.000000   -150.000000   \n",
       "25%    17664.000000      1.000000    159.000000     65.000000    120.000000   \n",
       "50%    19703.000000      1.000000    165.000000     72.000000    120.000000   \n",
       "75%    21327.000000      2.000000    170.000000     82.000000    140.000000   \n",
       "max    23713.000000      2.000000    250.000000    200.000000  16020.000000   \n",
       "\n",
       "              ap_lo   cholesterol          gluc         smoke          alco  \\\n",
       "count  69976.000000  69976.000000  69976.000000  69976.000000  69976.000000   \n",
       "mean      96.636261      1.366997      1.226535      0.088159      0.053790   \n",
       "std      188.504581      0.680333      0.572353      0.283528      0.225604   \n",
       "min      -70.000000      1.000000      1.000000      0.000000      0.000000   \n",
       "25%       80.000000      1.000000      1.000000      0.000000      0.000000   \n",
       "50%       80.000000      1.000000      1.000000      0.000000      0.000000   \n",
       "75%       90.000000      2.000000      1.000000      0.000000      0.000000   \n",
       "max    11000.000000      3.000000      3.000000      1.000000      1.000000   \n",
       "\n",
       "             active        cardio  \n",
       "count  69976.000000  69976.000000  \n",
       "mean       0.803718      0.499771  \n",
       "std        0.397187      0.500004  \n",
       "min        0.000000      0.000000  \n",
       "25%        1.000000      0.000000  \n",
       "50%        1.000000      0.000000  \n",
       "75%        1.000000      1.000000  \n",
       "max        1.000000      1.000000  "
      ]
     },
     "execution_count": 6,
     "metadata": {},
     "output_type": "execute_result"
    }
   ],
   "source": [
    "df.describe()"
   ]
  },
  {
   "cell_type": "markdown",
   "id": "93408009",
   "metadata": {},
   "source": [
    "Из приведенной выше таблицы describe видно, что в ap_hi, ap_lo, весе и росте есть выбросы. Мы займемся ими позже."
   ]
  },
  {
   "cell_type": "markdown",
   "id": "68e05cba",
   "metadata": {},
   "source": [
    "## Очистка"
   ]
  },
  {
   "cell_type": "markdown",
   "id": "1d55e6e3",
   "metadata": {},
   "source": [
    "Если мы более внимательно посмотрим на столбцы роста и веса, то заметим, что минимальный рост составляет 55 см, а минимальный вес — 10 кг. Это должно быть ошибкой, так как минимальный возраст составляет 10798 дней, что равно 29 годам. С другой стороны, максимальный рост составляет 250 см, а максимальный вес — 200 кг, что может не иметь значения при обобщении данных. Чтобы справиться с этими ошибками, мы можем удалить выбросы."
   ]
  },
  {
   "cell_type": "code",
   "execution_count": 7,
   "id": "aae11c17",
   "metadata": {},
   "outputs": [
    {
     "data": {
      "text/html": [
       "<div>\n",
       "<style scoped>\n",
       "    .dataframe tbody tr th:only-of-type {\n",
       "        vertical-align: middle;\n",
       "    }\n",
       "\n",
       "    .dataframe tbody tr th {\n",
       "        vertical-align: top;\n",
       "    }\n",
       "\n",
       "    .dataframe thead th {\n",
       "        text-align: right;\n",
       "    }\n",
       "</style>\n",
       "<table border=\"1\" class=\"dataframe\">\n",
       "  <thead>\n",
       "    <tr style=\"text-align: right;\">\n",
       "      <th></th>\n",
       "      <th>age</th>\n",
       "      <th>gender</th>\n",
       "      <th>height</th>\n",
       "      <th>weight</th>\n",
       "      <th>ap_hi</th>\n",
       "      <th>ap_lo</th>\n",
       "      <th>cholesterol</th>\n",
       "      <th>gluc</th>\n",
       "      <th>smoke</th>\n",
       "      <th>alco</th>\n",
       "      <th>active</th>\n",
       "      <th>cardio</th>\n",
       "    </tr>\n",
       "  </thead>\n",
       "  <tbody>\n",
       "    <tr>\n",
       "      <th>count</th>\n",
       "      <td>69976.000000</td>\n",
       "      <td>69976.000000</td>\n",
       "      <td>69976.000000</td>\n",
       "      <td>69976.000000</td>\n",
       "      <td>69976.000000</td>\n",
       "      <td>69976.000000</td>\n",
       "      <td>69976.000000</td>\n",
       "      <td>69976.000000</td>\n",
       "      <td>69976.000000</td>\n",
       "      <td>69976.000000</td>\n",
       "      <td>69976.000000</td>\n",
       "      <td>69976.000000</td>\n",
       "    </tr>\n",
       "    <tr>\n",
       "      <th>mean</th>\n",
       "      <td>19468.950126</td>\n",
       "      <td>1.349648</td>\n",
       "      <td>164.359152</td>\n",
       "      <td>74.208519</td>\n",
       "      <td>128.820453</td>\n",
       "      <td>96.636261</td>\n",
       "      <td>1.366997</td>\n",
       "      <td>1.226535</td>\n",
       "      <td>0.088159</td>\n",
       "      <td>0.053790</td>\n",
       "      <td>0.803718</td>\n",
       "      <td>0.499771</td>\n",
       "    </tr>\n",
       "    <tr>\n",
       "      <th>std</th>\n",
       "      <td>2467.374620</td>\n",
       "      <td>0.476862</td>\n",
       "      <td>8.211218</td>\n",
       "      <td>14.397211</td>\n",
       "      <td>154.037729</td>\n",
       "      <td>188.504581</td>\n",
       "      <td>0.680333</td>\n",
       "      <td>0.572353</td>\n",
       "      <td>0.283528</td>\n",
       "      <td>0.225604</td>\n",
       "      <td>0.397187</td>\n",
       "      <td>0.500004</td>\n",
       "    </tr>\n",
       "    <tr>\n",
       "      <th>min</th>\n",
       "      <td>10798.000000</td>\n",
       "      <td>1.000000</td>\n",
       "      <td>55.000000</td>\n",
       "      <td>10.000000</td>\n",
       "      <td>-150.000000</td>\n",
       "      <td>-70.000000</td>\n",
       "      <td>1.000000</td>\n",
       "      <td>1.000000</td>\n",
       "      <td>0.000000</td>\n",
       "      <td>0.000000</td>\n",
       "      <td>0.000000</td>\n",
       "      <td>0.000000</td>\n",
       "    </tr>\n",
       "    <tr>\n",
       "      <th>25%</th>\n",
       "      <td>17664.000000</td>\n",
       "      <td>1.000000</td>\n",
       "      <td>159.000000</td>\n",
       "      <td>65.000000</td>\n",
       "      <td>120.000000</td>\n",
       "      <td>80.000000</td>\n",
       "      <td>1.000000</td>\n",
       "      <td>1.000000</td>\n",
       "      <td>0.000000</td>\n",
       "      <td>0.000000</td>\n",
       "      <td>1.000000</td>\n",
       "      <td>0.000000</td>\n",
       "    </tr>\n",
       "    <tr>\n",
       "      <th>50%</th>\n",
       "      <td>19703.000000</td>\n",
       "      <td>1.000000</td>\n",
       "      <td>165.000000</td>\n",
       "      <td>72.000000</td>\n",
       "      <td>120.000000</td>\n",
       "      <td>80.000000</td>\n",
       "      <td>1.000000</td>\n",
       "      <td>1.000000</td>\n",
       "      <td>0.000000</td>\n",
       "      <td>0.000000</td>\n",
       "      <td>1.000000</td>\n",
       "      <td>0.000000</td>\n",
       "    </tr>\n",
       "    <tr>\n",
       "      <th>75%</th>\n",
       "      <td>21327.000000</td>\n",
       "      <td>2.000000</td>\n",
       "      <td>170.000000</td>\n",
       "      <td>82.000000</td>\n",
       "      <td>140.000000</td>\n",
       "      <td>90.000000</td>\n",
       "      <td>2.000000</td>\n",
       "      <td>1.000000</td>\n",
       "      <td>0.000000</td>\n",
       "      <td>0.000000</td>\n",
       "      <td>1.000000</td>\n",
       "      <td>1.000000</td>\n",
       "    </tr>\n",
       "    <tr>\n",
       "      <th>max</th>\n",
       "      <td>23713.000000</td>\n",
       "      <td>2.000000</td>\n",
       "      <td>250.000000</td>\n",
       "      <td>200.000000</td>\n",
       "      <td>16020.000000</td>\n",
       "      <td>11000.000000</td>\n",
       "      <td>3.000000</td>\n",
       "      <td>3.000000</td>\n",
       "      <td>1.000000</td>\n",
       "      <td>1.000000</td>\n",
       "      <td>1.000000</td>\n",
       "      <td>1.000000</td>\n",
       "    </tr>\n",
       "  </tbody>\n",
       "</table>\n",
       "</div>"
      ],
      "text/plain": [
       "                age        gender        height        weight         ap_hi  \\\n",
       "count  69976.000000  69976.000000  69976.000000  69976.000000  69976.000000   \n",
       "mean   19468.950126      1.349648    164.359152     74.208519    128.820453   \n",
       "std     2467.374620      0.476862      8.211218     14.397211    154.037729   \n",
       "min    10798.000000      1.000000     55.000000     10.000000   -150.000000   \n",
       "25%    17664.000000      1.000000    159.000000     65.000000    120.000000   \n",
       "50%    19703.000000      1.000000    165.000000     72.000000    120.000000   \n",
       "75%    21327.000000      2.000000    170.000000     82.000000    140.000000   \n",
       "max    23713.000000      2.000000    250.000000    200.000000  16020.000000   \n",
       "\n",
       "              ap_lo   cholesterol          gluc         smoke          alco  \\\n",
       "count  69976.000000  69976.000000  69976.000000  69976.000000  69976.000000   \n",
       "mean      96.636261      1.366997      1.226535      0.088159      0.053790   \n",
       "std      188.504581      0.680333      0.572353      0.283528      0.225604   \n",
       "min      -70.000000      1.000000      1.000000      0.000000      0.000000   \n",
       "25%       80.000000      1.000000      1.000000      0.000000      0.000000   \n",
       "50%       80.000000      1.000000      1.000000      0.000000      0.000000   \n",
       "75%       90.000000      2.000000      1.000000      0.000000      0.000000   \n",
       "max    11000.000000      3.000000      3.000000      1.000000      1.000000   \n",
       "\n",
       "             active        cardio  \n",
       "count  69976.000000  69976.000000  \n",
       "mean       0.803718      0.499771  \n",
       "std        0.397187      0.500004  \n",
       "min        0.000000      0.000000  \n",
       "25%        1.000000      0.000000  \n",
       "50%        1.000000      0.000000  \n",
       "75%        1.000000      1.000000  \n",
       "max        1.000000      1.000000  "
      ]
     },
     "execution_count": 7,
     "metadata": {},
     "output_type": "execute_result"
    }
   ],
   "source": [
    "df.describe()"
   ]
  },
  {
   "cell_type": "markdown",
   "id": "346d61a9",
   "metadata": {},
   "source": [
    "Удалим вес и рост, которые меньше 2,5% или больше 97,5% от всего интервала значений."
   ]
  },
  {
   "cell_type": "code",
   "execution_count": 8,
   "id": "c3882930",
   "metadata": {},
   "outputs": [],
   "source": [
    "df.drop(df[(df['height'] > df['height'].quantile(0.975)) | (df['height'] < df['height'].quantile(0.025))].index,inplace=True)\n",
    "df.drop(df[(df['weight'] > df['weight'].quantile(0.975)) | (df['weight'] < df['weight'].quantile(0.025))].index,inplace=True)"
   ]
  },
  {
   "cell_type": "markdown",
   "id": "2d94a98c",
   "metadata": {},
   "source": [
    "Кроме того, в ряде случаев диастолическое давление выше систолического, что также неверно. Сколько записей неточны с точки зрения артериального давления?"
   ]
  },
  {
   "cell_type": "code",
   "execution_count": 9,
   "id": "bc4b97a5",
   "metadata": {},
   "outputs": [
    {
     "name": "stdout",
     "output_type": "stream",
     "text": [
      "Diastilic pressure is higher than systolic one in 1082 cases\n"
     ]
    }
   ],
   "source": [
    "print(f\"Diastilic pressure is higher than systolic one in {df[df['ap_lo']> df['ap_hi']].shape[0]} cases\")"
   ]
  },
  {
   "cell_type": "markdown",
   "id": "ea4238d6",
   "metadata": {},
   "source": [
    "Давайте избавимся от выбросов, тем более артериальное давление не может быть отрицательным значением!"
   ]
  },
  {
   "cell_type": "code",
   "execution_count": 10,
   "id": "cb46b235",
   "metadata": {},
   "outputs": [],
   "source": [
    "df.drop(df[(df['ap_hi'] > df['ap_hi'].quantile(0.975)) | (df['ap_hi'] < df['ap_hi'].quantile(0.025))].index,inplace=True)\n",
    "df.drop(df[(df['ap_lo'] > df['ap_lo'].quantile(0.975)) | (df['ap_lo'] < df['ap_lo'].quantile(0.025))].index,inplace=True)"
   ]
  },
  {
   "cell_type": "code",
   "execution_count": 11,
   "id": "e6159c35",
   "metadata": {},
   "outputs": [
    {
     "name": "stdout",
     "output_type": "stream",
     "text": [
      "Diastilic pressure is higher than systolic one in 0 cases\n"
     ]
    },
    {
     "data": {
      "image/png": "[encoded data removed]",
      "text/plain": [
       "<Figure size 432x288 with 1 Axes>"
      ]
     },
     "metadata": {
      "needs_background": "light"
     },
     "output_type": "display_data"
    }
   ],
   "source": [
    "blood_pressure = df.loc[:,['ap_lo','ap_hi']]\n",
    "sns.boxplot(x = 'variable',y = 'value',data = blood_pressure.melt())\n",
    "print(f\"Diastilic pressure is higher than systolic one in {df[df['ap_lo']> df['ap_hi']].shape[0]} cases\")"
   ]
  },
  {
   "cell_type": "markdown",
   "id": "aec6fcd7",
   "metadata": {},
   "source": [
    "## Продолжение анализа\n",
    "\n",
    "Рассмотрим распределение целевой переменной"
   ]
  },
  {
   "cell_type": "code",
   "execution_count": 12,
   "id": "bd5fdec3",
   "metadata": {},
   "outputs": [
    {
     "data": {
      "text/plain": [
       "0    0.511694\n",
       "1    0.488306\n",
       "Name: cardio, dtype: float64"
      ]
     },
     "execution_count": 12,
     "metadata": {},
     "output_type": "execute_result"
    }
   ],
   "source": [
    "df['cardio'].value_counts(normalize=True)"
   ]
  },
  {
   "cell_type": "markdown",
   "id": "0a2d6595",
   "metadata": {},
   "source": [
    "Можно заметить, что классы распределены одинаково\n",
    "\n",
    "Возраст измеряется в днях, рост в сантиметрах. Давайте посмотрим на числовые переменные и на то, как они распределены по целевому классу. Например, в каком возрасте количество людей с сердечно-сосудистыми заболеваниями превышает количество людей без ССЗ?"
   ]
  },
  {
   "cell_type": "code",
   "execution_count": 13,
   "id": "f2379ae6",
   "metadata": {},
   "outputs": [
    {
     "data": {
      "text/plain": [
       "<AxesSubplot:xlabel='years', ylabel='count'>"
      ]
     },
     "execution_count": 13,
     "metadata": {},
     "output_type": "execute_result"
    },
    {
     "data": {
      "image/png": "[encoded data removed]",
      "text/plain": [
       "<Figure size 792x576 with 1 Axes>"
      ]
     },
     "metadata": {
      "needs_background": "light"
     },
     "output_type": "display_data"
    }
   ],
   "source": [
    "rcParams['figure.figsize'] = 11, 8\n",
    "df['years'] = (df['age'] / 365).round().astype('int')\n",
    "sns.countplot(x='years', hue='cardio', data = df, palette=\"Set2\")"
   ]
  },
  {
   "cell_type": "markdown",
   "id": "186315d9",
   "metadata": {},
   "source": [
    "Можно заметить, что люди старше 55 лет более подвержены сердечно-сосудистым заболеваниям\n",
    "\n",
    "Давайте посмотрим на категориальные переменные в наборе данных и их распределение:"
   ]
  },
  {
   "cell_type": "code",
   "execution_count": 14,
   "id": "9d7fb998",
   "metadata": {},
   "outputs": [
    {
     "data": {
      "text/plain": [
       "<AxesSubplot:xlabel='variable', ylabel='count'>"
      ]
     },
     "execution_count": 14,
     "metadata": {},
     "output_type": "execute_result"
    },
    {
     "data": {
      "image/png": "[encoded data removed]",
      "text/plain": [
       "<Figure size 792x576 with 1 Axes>"
      ]
     },
     "metadata": {
      "needs_background": "light"
     },
     "output_type": "display_data"
    }
   ],
   "source": [
    "df_categorical = df.loc[:,['cholesterol','gluc', 'smoke', 'alco', 'active']]\n",
    "sns.countplot(x=\"variable\", hue=\"value\",data= pd.melt(df_categorical))"
   ]
  },
  {
   "cell_type": "markdown",
   "id": "c3e1677c",
   "metadata": {},
   "source": [
    "Может быть полезно разделить категориальные переменные по целевому классу:"
   ]
  },
  {
   "cell_type": "code",
   "execution_count": 15,
   "id": "03ac470b",
   "metadata": {},
   "outputs": [
    {
     "data": {
      "text/plain": [
       "<seaborn.axisgrid.FacetGrid at 0x2243d1ae9d0>"
      ]
     },
     "execution_count": 15,
     "metadata": {},
     "output_type": "execute_result"
    },
    {
     "data": {
      "image/png": "[encoded data removed]",
      "text/plain": [
       "<Figure size 762.375x360 with 2 Axes>"
      ]
     },
     "metadata": {
      "needs_background": "light"
     },
     "output_type": "display_data"
    }
   ],
   "source": [
    "df_long = pd.melt(df, id_vars=['cardio'], value_vars=['cholesterol','gluc', 'smoke', 'alco', 'active'])\n",
    "sns.catplot(x=\"variable\", hue=\"value\", col=\"cardio\", data=df_long, kind=\"count\")"
   ]
  },
  {
   "cell_type": "markdown",
   "id": "9bf6d14c",
   "metadata": {},
   "source": [
    "Отчетливо видно, что у пациентов с ССЗ повышен уровень холестерина и глюкозы в крови. И, вообще говоря, менее они активны.\n",
    "\n",
    "Чтобы выяснить, что означает «1» в столбце пола, давайте рассчитаем среднее значение роста для каждого пола. Мы предполагаем, что мужчины в среднем выше, чем женщины."
   ]
  },
  {
   "cell_type": "code",
   "execution_count": 16,
   "id": "cd300a8b",
   "metadata": {},
   "outputs": [
    {
     "data": {
      "text/plain": [
       "gender\n",
       "1    162.054342\n",
       "2    169.252095\n",
       "Name: height, dtype: float64"
      ]
     },
     "execution_count": 16,
     "metadata": {},
     "output_type": "execute_result"
    }
   ],
   "source": [
    "df.groupby('gender')['height'].mean()"
   ]
  },
  {
   "cell_type": "markdown",
   "id": "18163677",
   "metadata": {},
   "source": [
    "Средний рост для пола «2» больше, чем для пола «1», поэтому «1» скорее всего женщины. Давайте посмотрим, сколько мужчин и женщин представлено в датасете:"
   ]
  },
  {
   "cell_type": "code",
   "execution_count": 17,
   "id": "c7a5a143",
   "metadata": {},
   "outputs": [
    {
     "data": {
      "text/plain": [
       "1    39233\n",
       "2    20885\n",
       "Name: gender, dtype: int64"
      ]
     },
     "execution_count": 17,
     "metadata": {},
     "output_type": "execute_result"
    }
   ],
   "source": [
    "df['gender'].value_counts()"
   ]
  },
  {
   "cell_type": "markdown",
   "id": "4a8e9c70",
   "metadata": {},
   "source": [
    "Давайте создадим violinplot график, чтобы показать распределение роста по полу. Взгляда на средние значения роста и веса для каждого значения признака пола может быть недостаточно, чтобы определить, является ли 1 мужским или женским обозначением."
   ]
  },
  {
   "cell_type": "code",
   "execution_count": 18,
   "id": "f958f5db",
   "metadata": {},
   "outputs": [
    {
     "data": {
      "image/png": "[encoded data removed]",
      "text/plain": [
       "<Figure size 864x720 with 1 Axes>"
      ]
     },
     "metadata": {
      "needs_background": "light"
     },
     "output_type": "display_data"
    }
   ],
   "source": [
    "import warnings\n",
    "warnings.filterwarnings(\"ignore\")\n",
    "df_melt = pd.melt(frame=df, value_vars=['height'], id_vars=['gender'])\n",
    "plt.figure(figsize=(12, 10))\n",
    "ax = sns.violinplot(\n",
    "    x='variable', \n",
    "    y='value', \n",
    "    hue='gender', \n",
    "    split=True, \n",
    "    data=df_melt, \n",
    "    scale='count',\n",
    "    scale_hue=False,\n",
    "    palette=\"Set2\");"
   ]
  },
  {
   "cell_type": "markdown",
   "id": "a44a496f",
   "metadata": {},
   "source": [
    "Кто чаще употребляет алкоголь - мужчины или женщины?"
   ]
  },
  {
   "cell_type": "code",
   "execution_count": 19,
   "id": "ceee1fd0",
   "metadata": {},
   "outputs": [
    {
     "data": {
      "text/plain": [
       "gender\n",
       "1     973\n",
       "2    2147\n",
       "Name: alco, dtype: int64"
      ]
     },
     "execution_count": 19,
     "metadata": {},
     "output_type": "execute_result"
    }
   ],
   "source": [
    "df.groupby('gender')['alco'].sum()"
   ]
  },
  {
   "cell_type": "markdown",
   "id": "b6a73d8f",
   "metadata": {},
   "source": [
    "Так, мужчины в среднем чаще употребляют алкоголь."
   ]
  },
  {
   "cell_type": "markdown",
   "id": "e402b133",
   "metadata": {},
   "source": [
    "Чтобы увидеть, как целевой класс распределяется среди мужчин и женщин, мы также можем использовать кросс-таблицу"
   ]
  },
  {
   "cell_type": "code",
   "execution_count": 20,
   "id": "154e93da",
   "metadata": {},
   "outputs": [
    {
     "data": {
      "text/html": [
       "<div>\n",
       "<style scoped>\n",
       "    .dataframe tbody tr th:only-of-type {\n",
       "        vertical-align: middle;\n",
       "    }\n",
       "\n",
       "    .dataframe tbody tr th {\n",
       "        vertical-align: top;\n",
       "    }\n",
       "\n",
       "    .dataframe thead th {\n",
       "        text-align: right;\n",
       "    }\n",
       "</style>\n",
       "<table border=\"1\" class=\"dataframe\">\n",
       "  <thead>\n",
       "    <tr style=\"text-align: right;\">\n",
       "      <th>gender</th>\n",
       "      <th>1</th>\n",
       "      <th>2</th>\n",
       "    </tr>\n",
       "    <tr>\n",
       "      <th>cardio</th>\n",
       "      <th></th>\n",
       "      <th></th>\n",
       "    </tr>\n",
       "  </thead>\n",
       "  <tbody>\n",
       "    <tr>\n",
       "      <th>0</th>\n",
       "      <td>0.332762</td>\n",
       "      <td>0.178931</td>\n",
       "    </tr>\n",
       "    <tr>\n",
       "      <th>1</th>\n",
       "      <td>0.319838</td>\n",
       "      <td>0.168469</td>\n",
       "    </tr>\n",
       "  </tbody>\n",
       "</table>\n",
       "</div>"
      ],
      "text/plain": [
       "gender         1         2\n",
       "cardio                    \n",
       "0       0.332762  0.178931\n",
       "1       0.319838  0.168469"
      ]
     },
     "execution_count": 20,
     "metadata": {},
     "output_type": "execute_result"
    }
   ],
   "source": [
    "pd.crosstab(df['cardio'],df['gender'],normalize=True)"
   ]
  },
  {
   "cell_type": "markdown",
   "id": "0213e7e5",
   "metadata": {},
   "source": [
    "Также можем посмотреть на матрицу корреляций"
   ]
  },
  {
   "cell_type": "code",
   "execution_count": 21,
   "id": "68694a57",
   "metadata": {},
   "outputs": [
    {
     "data": {
      "text/plain": [
       "<AxesSubplot:>"
      ]
     },
     "execution_count": 21,
     "metadata": {},
     "output_type": "execute_result"
    },
    {
     "data": {
      "image/png": "[encoded data removed]",
      "text/plain": [
       "<Figure size 792x648 with 2 Axes>"
      ]
     },
     "metadata": {
      "needs_background": "light"
     },
     "output_type": "display_data"
    }
   ],
   "source": [
    "corr = df.corr()\n",
    "cmap = sns.diverging_palette(220, 10, as_cmap=True)\n",
    "\n",
    "# Set up the matplotlib figure\n",
    "f, ax = plt.subplots(figsize=(11, 9))\n",
    "# Draw the heatmap with the mask and correct aspect ratio\n",
    "sns.heatmap(corr, cmap=cmap, vmax=.3, center=0,annot = True,\n",
    "            square=True, linewidths=.5, cbar_kws={\"shrink\": .5})"
   ]
  },
  {
   "cell_type": "markdown",
   "id": "dc315458",
   "metadata": {},
   "source": [
    "## BMI"
   ]
  },
  {
   "cell_type": "markdown",
   "id": "f70463c5",
   "metadata": {},
   "source": [
    "Давайте создадим новый признак - Индекс Массы Тела (ИМТ):\n",
    "\n",
    "\n",
    "<center>$\\text{BMI} = \\frac{\\text{mass}_{\\text{kg}}}{\\text{height}_{m}^2}$<center>\n",
    "\n",
    "    \n",
    "и сравним средний ИМТ здоровых людей со средним ИМТ больных людей. Считается, что нормальные значения ИМТ находятся в пределах от 18,5 до 25."
   ]
  },
  {
   "cell_type": "code",
   "execution_count": 22,
   "id": "c401a473",
   "metadata": {},
   "outputs": [
    {
     "data": {
      "image/png": "[encoded data removed]",
      "text/plain": [
       "<Figure size 1050.38x720 with 2 Axes>"
      ]
     },
     "metadata": {
      "needs_background": "light"
     },
     "output_type": "display_data"
    }
   ],
   "source": [
    "df['BMI'] = df['weight']/((df['height']/100)**2)\n",
    "sns.catplot(x=\"gender\", y=\"BMI\", hue=\"alco\", col=\"cardio\", data=df, color = \"yellow\",kind=\"box\", height=10, aspect=.7);"
   ]
  },
  {
   "cell_type": "markdown",
   "id": "ad0c8e9e",
   "metadata": {},
   "source": [
    "По ИМТ пьющие женщины имеют более высокйи риск ССЗ, чем пьющие мужчины "
   ]
  },
  {
   "cell_type": "markdown",
   "id": "6e9fefb0",
   "metadata": {},
   "source": [
    "# Построение моделей"
   ]
  },
  {
   "cell_type": "code",
   "execution_count": 23,
   "id": "3e2eaefe",
   "metadata": {},
   "outputs": [],
   "source": [
    "target_name = 'cardio'\n",
    "data_target = df[target_name]\n",
    "df = df.drop([target_name], axis=1)"
   ]
  },
  {
   "cell_type": "markdown",
   "id": "19d68660",
   "metadata": {},
   "source": [
    "Разделение на train/test"
   ]
  },
  {
   "cell_type": "code",
   "execution_count": 24,
   "id": "2a1feb35",
   "metadata": {},
   "outputs": [],
   "source": [
    "train, test, target, target_test = train_test_split(df, data_target, test_size=0.33, random_state=0)"
   ]
  },
  {
   "cell_type": "code",
   "execution_count": 52,
   "id": "3c68418d",
   "metadata": {},
   "outputs": [
    {
     "data": {
      "text/html": [
       "<div>\n",
       "<style scoped>\n",
       "    .dataframe tbody tr th:only-of-type {\n",
       "        vertical-align: middle;\n",
       "    }\n",
       "\n",
       "    .dataframe tbody tr th {\n",
       "        vertical-align: top;\n",
       "    }\n",
       "\n",
       "    .dataframe thead th {\n",
       "        text-align: right;\n",
       "    }\n",
       "</style>\n",
       "<table border=\"1\" class=\"dataframe\">\n",
       "  <thead>\n",
       "    <tr style=\"text-align: right;\">\n",
       "      <th></th>\n",
       "      <th>age</th>\n",
       "      <th>gender</th>\n",
       "      <th>height</th>\n",
       "      <th>weight</th>\n",
       "      <th>ap_hi</th>\n",
       "      <th>ap_lo</th>\n",
       "      <th>cholesterol</th>\n",
       "      <th>gluc</th>\n",
       "      <th>smoke</th>\n",
       "      <th>alco</th>\n",
       "      <th>active</th>\n",
       "      <th>years</th>\n",
       "      <th>BMI</th>\n",
       "    </tr>\n",
       "  </thead>\n",
       "  <tbody>\n",
       "    <tr>\n",
       "      <th>58117</th>\n",
       "      <td>15799</td>\n",
       "      <td>2</td>\n",
       "      <td>176</td>\n",
       "      <td>77.0</td>\n",
       "      <td>120</td>\n",
       "      <td>80</td>\n",
       "      <td>3</td>\n",
       "      <td>3</td>\n",
       "      <td>0</td>\n",
       "      <td>0</td>\n",
       "      <td>1</td>\n",
       "      <td>43</td>\n",
       "      <td>24.857955</td>\n",
       "    </tr>\n",
       "    <tr>\n",
       "      <th>23072</th>\n",
       "      <td>18148</td>\n",
       "      <td>2</td>\n",
       "      <td>167</td>\n",
       "      <td>95.0</td>\n",
       "      <td>130</td>\n",
       "      <td>80</td>\n",
       "      <td>1</td>\n",
       "      <td>1</td>\n",
       "      <td>1</td>\n",
       "      <td>0</td>\n",
       "      <td>1</td>\n",
       "      <td>50</td>\n",
       "      <td>34.063609</td>\n",
       "    </tr>\n",
       "    <tr>\n",
       "      <th>62921</th>\n",
       "      <td>22773</td>\n",
       "      <td>2</td>\n",
       "      <td>168</td>\n",
       "      <td>78.0</td>\n",
       "      <td>120</td>\n",
       "      <td>80</td>\n",
       "      <td>1</td>\n",
       "      <td>1</td>\n",
       "      <td>1</td>\n",
       "      <td>0</td>\n",
       "      <td>1</td>\n",
       "      <td>62</td>\n",
       "      <td>27.636054</td>\n",
       "    </tr>\n",
       "    <tr>\n",
       "      <th>61687</th>\n",
       "      <td>14707</td>\n",
       "      <td>1</td>\n",
       "      <td>156</td>\n",
       "      <td>78.0</td>\n",
       "      <td>110</td>\n",
       "      <td>70</td>\n",
       "      <td>1</td>\n",
       "      <td>1</td>\n",
       "      <td>0</td>\n",
       "      <td>0</td>\n",
       "      <td>1</td>\n",
       "      <td>40</td>\n",
       "      <td>32.051282</td>\n",
       "    </tr>\n",
       "    <tr>\n",
       "      <th>1489</th>\n",
       "      <td>20502</td>\n",
       "      <td>1</td>\n",
       "      <td>163</td>\n",
       "      <td>93.0</td>\n",
       "      <td>120</td>\n",
       "      <td>80</td>\n",
       "      <td>1</td>\n",
       "      <td>3</td>\n",
       "      <td>0</td>\n",
       "      <td>0</td>\n",
       "      <td>1</td>\n",
       "      <td>56</td>\n",
       "      <td>35.003199</td>\n",
       "    </tr>\n",
       "    <tr>\n",
       "      <th>...</th>\n",
       "      <td>...</td>\n",
       "      <td>...</td>\n",
       "      <td>...</td>\n",
       "      <td>...</td>\n",
       "      <td>...</td>\n",
       "      <td>...</td>\n",
       "      <td>...</td>\n",
       "      <td>...</td>\n",
       "      <td>...</td>\n",
       "      <td>...</td>\n",
       "      <td>...</td>\n",
       "      <td>...</td>\n",
       "      <td>...</td>\n",
       "    </tr>\n",
       "    <tr>\n",
       "      <th>53336</th>\n",
       "      <td>23294</td>\n",
       "      <td>1</td>\n",
       "      <td>153</td>\n",
       "      <td>66.0</td>\n",
       "      <td>120</td>\n",
       "      <td>80</td>\n",
       "      <td>3</td>\n",
       "      <td>2</td>\n",
       "      <td>0</td>\n",
       "      <td>0</td>\n",
       "      <td>1</td>\n",
       "      <td>64</td>\n",
       "      <td>28.194284</td>\n",
       "    </tr>\n",
       "    <tr>\n",
       "      <th>61002</th>\n",
       "      <td>23402</td>\n",
       "      <td>2</td>\n",
       "      <td>169</td>\n",
       "      <td>91.0</td>\n",
       "      <td>120</td>\n",
       "      <td>80</td>\n",
       "      <td>1</td>\n",
       "      <td>1</td>\n",
       "      <td>0</td>\n",
       "      <td>0</td>\n",
       "      <td>1</td>\n",
       "      <td>64</td>\n",
       "      <td>31.861629</td>\n",
       "    </tr>\n",
       "    <tr>\n",
       "      <th>49550</th>\n",
       "      <td>16771</td>\n",
       "      <td>1</td>\n",
       "      <td>165</td>\n",
       "      <td>65.0</td>\n",
       "      <td>120</td>\n",
       "      <td>80</td>\n",
       "      <td>1</td>\n",
       "      <td>1</td>\n",
       "      <td>0</td>\n",
       "      <td>0</td>\n",
       "      <td>1</td>\n",
       "      <td>46</td>\n",
       "      <td>23.875115</td>\n",
       "    </tr>\n",
       "    <tr>\n",
       "      <th>50662</th>\n",
       "      <td>22412</td>\n",
       "      <td>1</td>\n",
       "      <td>154</td>\n",
       "      <td>80.0</td>\n",
       "      <td>120</td>\n",
       "      <td>70</td>\n",
       "      <td>1</td>\n",
       "      <td>1</td>\n",
       "      <td>0</td>\n",
       "      <td>0</td>\n",
       "      <td>1</td>\n",
       "      <td>61</td>\n",
       "      <td>33.732501</td>\n",
       "    </tr>\n",
       "    <tr>\n",
       "      <th>3183</th>\n",
       "      <td>20586</td>\n",
       "      <td>1</td>\n",
       "      <td>152</td>\n",
       "      <td>57.0</td>\n",
       "      <td>120</td>\n",
       "      <td>80</td>\n",
       "      <td>3</td>\n",
       "      <td>1</td>\n",
       "      <td>0</td>\n",
       "      <td>0</td>\n",
       "      <td>1</td>\n",
       "      <td>56</td>\n",
       "      <td>24.671053</td>\n",
       "    </tr>\n",
       "  </tbody>\n",
       "</table>\n",
       "<p>40279 rows × 13 columns</p>\n",
       "</div>"
      ],
      "text/plain": [
       "         age  gender  height  weight  ap_hi  ap_lo  cholesterol  gluc  smoke  \\\n",
       "58117  15799       2     176    77.0    120     80            3     3      0   \n",
       "23072  18148       2     167    95.0    130     80            1     1      1   \n",
       "62921  22773       2     168    78.0    120     80            1     1      1   \n",
       "61687  14707       1     156    78.0    110     70            1     1      0   \n",
       "1489   20502       1     163    93.0    120     80            1     3      0   \n",
       "...      ...     ...     ...     ...    ...    ...          ...   ...    ...   \n",
       "53336  23294       1     153    66.0    120     80            3     2      0   \n",
       "61002  23402       2     169    91.0    120     80            1     1      0   \n",
       "49550  16771       1     165    65.0    120     80            1     1      0   \n",
       "50662  22412       1     154    80.0    120     70            1     1      0   \n",
       "3183   20586       1     152    57.0    120     80            3     1      0   \n",
       "\n",
       "       alco  active  years        BMI  \n",
       "58117     0       1     43  24.857955  \n",
       "23072     0       1     50  34.063609  \n",
       "62921     0       1     62  27.636054  \n",
       "61687     0       1     40  32.051282  \n",
       "1489      0       1     56  35.003199  \n",
       "...     ...     ...    ...        ...  \n",
       "53336     0       1     64  28.194284  \n",
       "61002     0       1     64  31.861629  \n",
       "49550     0       1     46  23.875115  \n",
       "50662     0       1     61  33.732501  \n",
       "3183      0       1     56  24.671053  \n",
       "\n",
       "[40279 rows x 13 columns]"
      ]
     },
     "execution_count": 52,
     "metadata": {},
     "output_type": "execute_result"
    }
   ],
   "source": [
    "train"
   ]
  },
  {
   "cell_type": "markdown",
   "id": "8a283a40",
   "metadata": {},
   "source": [
    "# Logreg"
   ]
  },
  {
   "cell_type": "code",
   "execution_count": 33,
   "id": "b15634a1",
   "metadata": {},
   "outputs": [],
   "source": [
    "scaler = MinMaxScaler()\n",
    "logreg = LogisticRegression()\n",
    "logreg_pipe = Pipeline(steps=[(\"scaler\", scaler), (\"logreg\", logreg)])"
   ]
  },
  {
   "cell_type": "code",
   "execution_count": 34,
   "id": "fcf93f26",
   "metadata": {},
   "outputs": [],
   "source": [
    "param_grid = {'logreg__penalty' : ['l1', 'l2', 'none'],\n",
    "              'logreg__C' : [100, 10, 1, 0.1, 0.01],\n",
    "              'logreg__solver' : ['newton-cg', 'lbfgs', 'sag', 'liblinear']\n",
    "             }"
   ]
  },
  {
   "cell_type": "code",
   "execution_count": 35,
   "id": "1ae90d23",
   "metadata": {},
   "outputs": [],
   "source": [
    "logreg_search = GridSearchCV(estimator=logreg_pipe, param_grid=param_grid, n_jobs=-1, cv=5, error_score=0)\n",
    "logreg_best = logreg_search.fit(train, target)"
   ]
  },
  {
   "cell_type": "code",
   "execution_count": 36,
   "id": "417b96d4",
   "metadata": {},
   "outputs": [
    {
     "data": {
      "text/plain": [
       "{'logreg__C': 0.1, 'logreg__penalty': 'l2', 'logreg__solver': 'newton-cg'}"
      ]
     },
     "execution_count": 36,
     "metadata": {},
     "output_type": "execute_result"
    }
   ],
   "source": [
    "logreg_best.best_params_"
   ]
  },
  {
   "cell_type": "code",
   "execution_count": 37,
   "id": "64e3913c",
   "metadata": {},
   "outputs": [],
   "source": [
    "pred = logreg_best.predict(test)"
   ]
  },
  {
   "cell_type": "code",
   "execution_count": 38,
   "id": "d08b1c4d",
   "metadata": {},
   "outputs": [
    {
     "name": "stdout",
     "output_type": "stream",
     "text": [
      "              precision    recall  f1-score   support\n",
      "\n",
      "           0       0.70      0.79      0.74     10124\n",
      "           1       0.75      0.65      0.70      9715\n",
      "\n",
      "    accuracy                           0.72     19839\n",
      "   macro avg       0.73      0.72      0.72     19839\n",
      "weighted avg       0.73      0.72      0.72     19839\n",
      "\n"
     ]
    }
   ],
   "source": [
    "print(classification_report(target_test, pred))"
   ]
  },
  {
   "cell_type": "markdown",
   "id": "674cd00d",
   "metadata": {},
   "source": [
    "Сохранение модели"
   ]
  },
  {
   "cell_type": "code",
   "execution_count": 176,
   "id": "a32f54ce",
   "metadata": {},
   "outputs": [],
   "source": [
    "pickle.dump(logreg_best, open('logreg_best.pkl', 'wb'))"
   ]
  },
  {
   "cell_type": "code",
   "execution_count": null,
   "id": "f8e0fbeb",
   "metadata": {},
   "outputs": [],
   "source": [
    "# loaded_logreg = pickle.load(open('logreg_best.pkl', 'rb'))"
   ]
  },
  {
   "cell_type": "markdown",
   "id": "e915dc80",
   "metadata": {},
   "source": [
    "Мы можем использовать логистическую регрессию для проверки наших предположений и решений для создания функций и достижения целей. Это можно сделать, рассчитав коэффициент признаков в решающей функции.\n",
    "\n",
    "Положительные коэффициенты увеличивают логарифмические шансы ответа (и, таким образом, увеличивают вероятность), а отрицательные коэффициенты уменьшают логарифмические шансы ответа (и, таким образом, уменьшают вероятность).\n",
    "\n",
    "глюк самый высокий коэффициент\n",
    "высота, дым — самые большие числа по абсолютной величине."
   ]
  },
  {
   "cell_type": "markdown",
   "id": "7018d701",
   "metadata": {},
   "source": [
    "# Linear SVC"
   ]
  },
  {
   "cell_type": "code",
   "execution_count": 130,
   "id": "12cc1f8e",
   "metadata": {},
   "outputs": [],
   "source": [
    "scaler = MinMaxScaler()\n",
    "svc = LinearSVC()\n",
    "svc_pipe = Pipeline(steps=[(\"scaler\", scaler), (\"svc\", svc)])"
   ]
  },
  {
   "cell_type": "code",
   "execution_count": 131,
   "id": "53100cee",
   "metadata": {},
   "outputs": [],
   "source": [
    "param_grid = {'svc__penalty' : ['l1', 'l2', 'none'],\n",
    "              'svc__dual' : [False],\n",
    "              'svc__loss' : ['hinge', 'squared_hinge'],\n",
    "              'svc__C' : [100, 10, 1, 0.1, 0.01],\n",
    "             }"
   ]
  },
  {
   "cell_type": "code",
   "execution_count": 132,
   "id": "81e83536",
   "metadata": {},
   "outputs": [],
   "source": [
    "svc_search = GridSearchCV(estimator=svc_pipe, param_grid=param_grid, n_jobs=-1, cv=5, error_score=0)\n",
    "svc_best = svc_search.fit(train, target)"
   ]
  },
  {
   "cell_type": "code",
   "execution_count": 133,
   "id": "175ba339",
   "metadata": {},
   "outputs": [
    {
     "data": {
      "text/plain": [
       "{'svc__C': 0.01,\n",
       " 'svc__dual': False,\n",
       " 'svc__loss': 'squared_hinge',\n",
       " 'svc__penalty': 'l2'}"
      ]
     },
     "execution_count": 133,
     "metadata": {},
     "output_type": "execute_result"
    }
   ],
   "source": [
    "svc_best.best_params_"
   ]
  },
  {
   "cell_type": "code",
   "execution_count": 134,
   "id": "835d1d14",
   "metadata": {},
   "outputs": [],
   "source": [
    "pred = svc_best.predict(test)"
   ]
  },
  {
   "cell_type": "code",
   "execution_count": 135,
   "id": "661674d5",
   "metadata": {},
   "outputs": [
    {
     "name": "stdout",
     "output_type": "stream",
     "text": [
      "              precision    recall  f1-score   support\n",
      "\n",
      "           0       0.70      0.80      0.75     10124\n",
      "           1       0.75      0.64      0.69      9715\n",
      "\n",
      "    accuracy                           0.72     19839\n",
      "   macro avg       0.73      0.72      0.72     19839\n",
      "weighted avg       0.73      0.72      0.72     19839\n",
      "\n"
     ]
    }
   ],
   "source": [
    "print(classification_report(target_test, pred))"
   ]
  },
  {
   "cell_type": "code",
   "execution_count": 180,
   "id": "712fd740",
   "metadata": {},
   "outputs": [],
   "source": [
    "pickle.dump(svc_best, open('svc_best.pkl', 'wb'))"
   ]
  },
  {
   "cell_type": "markdown",
   "id": "e3168346",
   "metadata": {},
   "source": [
    "# K-nn"
   ]
  },
  {
   "cell_type": "code",
   "execution_count": 142,
   "id": "faf58de6",
   "metadata": {},
   "outputs": [],
   "source": [
    "scaler = MinMaxScaler()\n",
    "knn = KNeighborsClassifier()\n",
    "knn_pipe = Pipeline(steps=[(\"scaler\", scaler), (\"knn\", knn)])"
   ]
  },
  {
   "cell_type": "code",
   "execution_count": 143,
   "id": "629a5854",
   "metadata": {},
   "outputs": [],
   "source": [
    "param_grid = {'knn__n_neighbors' : [3, 5, 10, 15, 20, 30, 35],\n",
    "              'knn__weights' : ['uniform', 'distance'],\n",
    "             }"
   ]
  },
  {
   "cell_type": "code",
   "execution_count": 144,
   "id": "4da49cc5",
   "metadata": {},
   "outputs": [],
   "source": [
    "knn_search = GridSearchCV(estimator=knn_pipe, param_grid=param_grid, n_jobs=-1, cv=5, error_score=0)\n",
    "knn_best = knn_search.fit(train, target)"
   ]
  },
  {
   "cell_type": "code",
   "execution_count": 145,
   "id": "4f52538f",
   "metadata": {},
   "outputs": [
    {
     "data": {
      "text/plain": [
       "{'knn__n_neighbors': 35, 'knn__weights': 'uniform'}"
      ]
     },
     "execution_count": 145,
     "metadata": {},
     "output_type": "execute_result"
    }
   ],
   "source": [
    "knn_best.best_params_"
   ]
  },
  {
   "cell_type": "code",
   "execution_count": 146,
   "id": "bb0affde",
   "metadata": {},
   "outputs": [],
   "source": [
    "pred = knn_best.predict(test)"
   ]
  },
  {
   "cell_type": "code",
   "execution_count": 147,
   "id": "c1aa7633",
   "metadata": {},
   "outputs": [
    {
     "name": "stdout",
     "output_type": "stream",
     "text": [
      "              precision    recall  f1-score   support\n",
      "\n",
      "           0       0.71      0.77      0.74     10124\n",
      "           1       0.74      0.67      0.70      9715\n",
      "\n",
      "    accuracy                           0.72     19839\n",
      "   macro avg       0.72      0.72      0.72     19839\n",
      "weighted avg       0.72      0.72      0.72     19839\n",
      "\n"
     ]
    }
   ],
   "source": [
    "print(classification_report(target_test, pred))"
   ]
  },
  {
   "cell_type": "code",
   "execution_count": 181,
   "id": "73168e26",
   "metadata": {},
   "outputs": [],
   "source": [
    "pickle.dump(knn_best, open('knn_best.pkl', 'wb'))"
   ]
  },
  {
   "cell_type": "markdown",
   "id": "641be7d6",
   "metadata": {},
   "source": [
    "В распознавании образов алгоритм k-ближайших соседей (или сокращенно k-NN) представляет собой непараметрический метод, используемый для классификации и регрессии. Выборка классифицируется большинством голосов ее соседей, при этом выборка относится к классу, наиболее распространенному среди k ее ближайших соседей (k — положительное целое число, обычно маленькое)."
   ]
  },
  {
   "cell_type": "markdown",
   "id": "6c0e1da3",
   "metadata": {},
   "source": [
    "# Random Forest"
   ]
  },
  {
   "cell_type": "code",
   "execution_count": 158,
   "id": "d155439c",
   "metadata": {},
   "outputs": [],
   "source": [
    "forest = RandomForestClassifier()\n",
    "\n",
    "param_grid = {\n",
    "#                 'n_estimators' : [10, 50, 100, 200, 500, 1000],\n",
    "              'n_estimators' : [50, 100, 150],\n",
    "              'criterion' : ['gini', 'entropy'],\n",
    "              'max_depth' : [5, 10, 15],\n",
    "              'max_features' : ['auto', 'log2'],\n",
    "              'bootstrap' : [True, False],\n",
    "              'min_samples_leaf' : [1, 2, 4],\n",
    "              'min_samples_split' : [2, 3, 5],\n",
    "             }"
   ]
  },
  {
   "cell_type": "code",
   "execution_count": 159,
   "id": "3f709a89",
   "metadata": {},
   "outputs": [
    {
     "name": "stdout",
     "output_type": "stream",
     "text": [
      "Fitting 5 folds for each of 648 candidates, totalling 3240 fits\n"
     ]
    }
   ],
   "source": [
    "forest_search = GridSearchCV(estimator=forest, param_grid=param_grid, n_jobs=-1, cv=5, error_score=0, verbose=5)\n",
    "forest_best = forest_search.fit(train, target)"
   ]
  },
  {
   "cell_type": "code",
   "execution_count": 160,
   "id": "1b4111d7",
   "metadata": {},
   "outputs": [
    {
     "data": {
      "text/plain": [
       "{'bootstrap': True,\n",
       " 'criterion': 'gini',\n",
       " 'max_depth': 10,\n",
       " 'max_features': 'auto',\n",
       " 'min_samples_leaf': 1,\n",
       " 'min_samples_split': 5,\n",
       " 'n_estimators': 50}"
      ]
     },
     "execution_count": 160,
     "metadata": {},
     "output_type": "execute_result"
    }
   ],
   "source": [
    "forest_best.best_params_"
   ]
  },
  {
   "cell_type": "code",
   "execution_count": 161,
   "id": "1b03b47a",
   "metadata": {},
   "outputs": [],
   "source": [
    "pred = forest_best.predict(test)"
   ]
  },
  {
   "cell_type": "code",
   "execution_count": 163,
   "id": "f0e43408",
   "metadata": {},
   "outputs": [
    {
     "name": "stdout",
     "output_type": "stream",
     "text": [
      "              precision    recall  f1-score   support\n",
      "\n",
      "           0       0.71      0.78      0.74     10124\n",
      "           1       0.74      0.67      0.71      9715\n",
      "\n",
      "    accuracy                           0.73     19839\n",
      "   macro avg       0.73      0.73      0.73     19839\n",
      "weighted avg       0.73      0.73      0.73     19839\n",
      "\n"
     ]
    }
   ],
   "source": [
    "print(classification_report(target_test, pred))"
   ]
  },
  {
   "cell_type": "code",
   "execution_count": 182,
   "id": "e1888e32",
   "metadata": {},
   "outputs": [],
   "source": [
    "pickle.dump(forest_best, open('forest_best.pkl', 'wb'))"
   ]
  },
  {
   "cell_type": "markdown",
   "id": "db01d531",
   "metadata": {},
   "source": [
    "# XGBoost"
   ]
  },
  {
   "cell_type": "markdown",
   "id": "14938b32",
   "metadata": {},
   "source": [
    "Для подбора лучших параметров для модели XGBoost была использована бибилотека "
   ]
  },
  {
   "cell_type": "code",
   "execution_count": 195,
   "id": "4fcb2c8f",
   "metadata": {},
   "outputs": [],
   "source": [
    "space= {\n",
    "            'n_estimators': hp.choice('n_estimators', range(100, 1000)),\n",
    "            'eta': hp.quniform('eta', 0.025, 0.5, 0.005),\n",
    "            'alpha' : hp.quniform('alpha', 40,180,1),\n",
    "            'lambda' : hp.uniform('lambda', 0,1),\n",
    "            'max_depth':  hp.choice('max_depth', np.arange(2, 12, dtype=int)),\n",
    "            'min_child_weight': hp.quniform('min_child_weight', 1, 9, 0.025),\n",
    "            'subsample': hp.quniform('subsample', 0.5, 1, 0.005),\n",
    "            'gamma': hp.quniform('gamma', 0.5, 1, 0.005),\n",
    "            'colsample_bytree': hp.quniform('colsample_bytree', 0.5, 1, 0.005),\n",
    "            'objective': 'binary:logistic',\n",
    "            'booster': 'gbtree',\n",
    "            'tree_method': 'exact',\n",
    "        }"
   ]
  },
  {
   "cell_type": "code",
   "execution_count": 196,
   "id": "fe596b15",
   "metadata": {},
   "outputs": [],
   "source": [
    "def objective(space):\n",
    "    clf=xgb.XGBClassifier(\n",
    "                    n_estimators =space['n_estimators'], \n",
    "                    eta = space['eta'], \n",
    "                    reg_lambda = space['lambda'],\n",
    "                    subsample = space['subsample'],\n",
    "                    max_depth = int(space['max_depth']), \n",
    "                    gamma = space['gamma'],\n",
    "                    alpha = int(space['alpha']),\n",
    "                    min_child_weight=int(space['min_child_weight']),\n",
    "                    objective = space['objective'],\n",
    "                    booster = space['booster'],\n",
    "                    tree_method = space['tree_method'],\n",
    "#                     missing = space['missing'],\n",
    "                    colsample_bytree=int(space['colsample_bytree']), )\n",
    "    \n",
    "    evaluation = [( train, target), ( test, target_test)]\n",
    "    \n",
    "    clf.fit(train, target,\n",
    "            eval_set=evaluation, eval_metric=\"auc\",\n",
    "            early_stopping_rounds=10,verbose=False)\n",
    "    \n",
    "\n",
    "    pred = clf.predict(test)\n",
    "    accuracy = accuracy_score(target_test, pred>0.5)\n",
    "    print (\"SCORE:\", accuracy)\n",
    "    return {'loss': -accuracy, 'status': STATUS_OK }"
   ]
  },
  {
   "cell_type": "code",
   "execution_count": 197,
   "id": "159e38c3",
   "metadata": {
    "scrolled": true
   },
   "outputs": [
    {
     "name": "stdout",
     "output_type": "stream",
     "text": [
      "SCORE:                                                 \n",
      "0.662533393820253                                      \n",
      "SCORE:                                                                           \n",
      "0.6847623368113313                                                               \n",
      "SCORE:                                                                            \n",
      "0.6887947981249055                                                                \n",
      "SCORE:                                                                            \n",
      "0.6785120217752911                                                                \n",
      "SCORE:                                                                            \n",
      "0.6723121125056707                                                                \n",
      "SCORE:                                                                            \n",
      "0.6653057109733354                                                                \n",
      "SCORE:                                                                            \n",
      "0.6649024648419779                                                                \n",
      "SCORE:                                                                            \n",
      "0.6703966933817229                                                                \n",
      "SCORE:                                                                            \n",
      "0.675235646958012                                                                 \n",
      "SCORE:                                                                            \n",
      "0.6612228438933414                                                                \n",
      "SCORE:                                                                             \n",
      "0.6705983164474015                                                                 \n",
      "SCORE:                                                                             \n",
      "0.6805786581984979                                                                 \n",
      "SCORE:                                                                             \n",
      "0.6625837995866727                                                                 \n",
      "SCORE:                                                                             \n",
      "0.672261706739251                                                                  \n",
      "SCORE:                                                                             \n",
      "0.6595090478350724                                                                 \n",
      "SCORE:                                                                             \n",
      "0.6732698220676445                                                                 \n",
      "SCORE:                                                                             \n",
      "0.6836534099500983                                                                 \n",
      "SCORE:                                                                             \n",
      "0.6677755935278996                                                                 \n",
      "SCORE:                                                                             \n",
      "0.6818892081254095                                                                 \n",
      "SCORE:                                                                             \n",
      "0.6752860527244317                                                                 \n",
      "SCORE:                                                                             \n",
      "0.6836534099500983                                                                 \n",
      "SCORE:                                                                             \n",
      "0.6872826251323151                                                                 \n",
      "SCORE:                                                                             \n",
      "0.6858208579061444                                                                 \n",
      "SCORE:                                                                             \n",
      "0.6817379908261505                                                                 \n",
      "SCORE:                                                                             \n",
      "0.6856192348404657                                                                 \n",
      "SCORE:                                                                             \n",
      "0.6816875850597308                                                                 \n",
      "SCORE:                                                                             \n",
      "0.6800746005343011                                                                 \n",
      "SCORE:                                                                             \n",
      "0.6844599022128132                                                                 \n",
      "SCORE:                                                                             \n",
      "0.6853672060083673                                                                 \n",
      "SCORE:                                                                             \n",
      "0.6813851504612127                                                                 \n",
      "SCORE:                                                                             \n",
      "0.685417611774787                                                                  \n",
      "SCORE:                                                                             \n",
      "0.6799233832350421                                                                 \n",
      "SCORE:                                                                             \n",
      "0.6765966026513434                                                                 \n",
      "SCORE:                                                                             \n",
      "0.6846111195120722                                                                 \n",
      "SCORE:                                                                             \n",
      "0.6878874943293513                                                                 \n",
      "SCORE:                                                                             \n",
      "0.6876858712636725                                                                 \n",
      "SCORE:                                                                             \n",
      "0.6847623368113313                                                                 \n",
      "SCORE:                                                                             \n",
      "0.7071424971016684                                                                 \n",
      "SCORE:                                                                             \n",
      "0.6800241947678815                                                                 \n",
      "SCORE:                                                                             \n",
      "0.6871314078330562                                                                 \n",
      "SCORE:                                                                             \n",
      "0.6358183376178235                                                                 \n",
      "SCORE:                                                                             \n",
      "0.6862241040375019                                                                 \n",
      "SCORE:                                                                             \n",
      "0.678058369877514                                                                  \n",
      "SCORE:                                                                             \n",
      "0.6837542214829376                                                                 \n",
      "SCORE:                                                                             \n",
      "0.6704470991481426                                                                 \n",
      "SCORE:                                                                             \n",
      "0.7269519633046021                                                                 \n",
      "SCORE:                                                                             \n",
      "0.6730681990019658                                                                 \n",
      "SCORE:                                                                             \n",
      "0.6760421392207269                                                                 \n",
      "SCORE:                                                                             \n",
      "0.6784112102424518                                                                 \n",
      "SCORE:                                                                             \n",
      "0.6765461968849237                                                                 \n",
      "SCORE:                                                                             \n",
      "0.6761933565199859                                                                 \n",
      "SCORE:                                                                             \n",
      "0.6803770351328192                                                                 \n",
      "SCORE:                                                                             \n",
      "0.6715056202429558                                                                 \n",
      "SCORE:                                                                             \n",
      "0.7281617016986743                                                                 \n",
      "SCORE:                                                                             \n",
      "0.6761933565199859                                                                 \n",
      "SCORE:                                                                             \n",
      "0.6736226624325823                                                                 \n",
      "SCORE:                                                                             \n",
      "0.6714048087101164                                                                 \n",
      "SCORE:                                                                             \n",
      "0.6672211300972831                                                                 \n",
      "SCORE:                                                                             \n",
      "0.6761933565199859                                                                 \n",
      "SCORE:                                                                             \n",
      "0.6729169817027068                                                                 \n",
      "SCORE:                                                                             \n",
      "0.6747315892938152                                                                 \n",
      "SCORE:                                                                             \n",
      "0.6540148192953273                                                                 \n",
      "SCORE:                                                                             \n",
      "0.6786128333081305                                                                 \n",
      "SCORE:                                                                             \n",
      "0.682292454256767                                                                  \n",
      "SCORE:                                                                             \n",
      "0.6742779373960381                                                                 \n",
      "SCORE:                                                                             \n",
      "0.6764453853520843                                                                 \n",
      "SCORE:                                                                             \n",
      "0.6814859619940521                                                                 \n",
      "SCORE:                                                                             \n",
      "0.6815363677604718                                                                 \n",
      "SCORE:                                                                             \n",
      "0.6788144563738092                                                                 \n",
      "SCORE:                                                                             \n",
      "0.7274056152023791                                                                 \n",
      "SCORE:                                                                             \n",
      "0.6812339331619537                                                                 \n",
      "SCORE:                                                                             \n",
      "0.6795201371036846                                                                 \n",
      "SCORE:                                                                             \n",
      "0.6698926357175261                                                                 \n",
      "SCORE:                                                                             \n",
      "0.6775039064468975                                                                 \n",
      "SCORE:                                                                             \n",
      "0.680881092797016                                                                  \n",
      "SCORE:                                                                             \n",
      "0.671001562578759                                                                  \n",
      "SCORE:                                                                             \n",
      "0.681032310096275                                                                  \n",
      "SCORE:                                                                             \n",
      "0.7275064267352185                                                                 \n",
      "SCORE:                                                                             \n",
      "0.6862241040375019                                                                 \n",
      "SCORE:                                                                             \n",
      "0.6875850597308332                                                                 \n",
      "SCORE:                                                                             \n",
      "0.6800746005343011                                                                 \n",
      "SCORE:                                                                             \n",
      "0.6813851504612127                                                                 \n",
      "SCORE:                                                                             \n",
      "0.6860224809718232                                                                 \n",
      "SCORE:                                                                             \n",
      "0.6858208579061444                                                                 \n",
      "SCORE:                                                                             \n",
      "0.6703966933817229                                                                 \n",
      "SCORE:                                                                             \n",
      "0.6818388023589899                                                                 \n",
      "SCORE:                                                                             \n",
      "0.6756388930893694                                                                 \n",
      "SCORE:                                                                             \n",
      "0.6837542214829376                                                                 \n",
      "SCORE:                                                                             \n",
      "0.6859216694389838                                                                 \n",
      "SCORE:                                                                             \n",
      "0.7274056152023791                                                                 \n",
      "SCORE:                                                                             \n",
      "0.6751348354251726                                                                 \n",
      "SCORE:                                                                             \n",
      "0.6719088663743132                                                                 \n",
      "SCORE:                                                                             \n",
      "0.6829477292202228                                                                 \n",
      "SCORE:                                                                             \n",
      "0.6798729774686224                                                                 \n",
      "SCORE:                                                                             \n",
      "0.6629870457180301                                                                 \n",
      "SCORE:                                                                             \n",
      "0.6842078733807148                                                                 \n",
      "SCORE:                                                                             \n",
      "0.6655073340390141                                                                 \n",
      "SCORE:                                                                             \n"
     ]
    },
    {
     "name": "stdout",
     "output_type": "stream",
     "text": [
      "0.673824285498261                                                                  \n",
      "SCORE:                                                                             \n",
      "0.676647008417763                                                                  \n",
      "SCORE:                                                                             \n",
      "0.676647008417763                                                                  \n",
      "SCORE:                                                                              \n",
      "0.6877866827965119                                                                  \n",
      "SCORE:                                                                              \n",
      "0.6804274408992389                                                                  \n",
      "SCORE:                                                                              \n",
      "0.6856192348404657                                                                  \n",
      "SCORE:                                                                              \n",
      "0.6812339331619537                                                                  \n",
      "SCORE:                                                                              \n",
      "0.6745299662281365                                                                  \n",
      "SCORE:                                                                              \n",
      "0.684006250315036                                                                   \n",
      "SCORE:                                                                              \n",
      "0.6842582791471344                                                                  \n",
      "SCORE:                                                                              \n",
      "0.6868793790009577                                                                  \n",
      "SCORE:                                                                              \n",
      "0.6644488129442008                                                                  \n",
      "SCORE:                                                                              \n",
      "0.678058369877514                                                                   \n",
      "SCORE:                                                                              \n",
      "0.6756892988557891                                                                  \n",
      "SCORE:                                                                              \n",
      "0.7267503402389234                                                                  \n",
      "SCORE:                                                                              \n",
      "0.6764453853520843                                                                  \n",
      "SCORE:                                                                              \n",
      "0.6712535914108574                                                                  \n",
      "SCORE:                                                                              \n",
      "0.6748828065930742                                                                  \n",
      "SCORE:                                                                              \n",
      "0.675386864257271                                                                   \n",
      "SCORE:                                                                              \n",
      "0.6861232925046625                                                                  \n",
      "SCORE:                                                                              \n",
      "0.6827461061545441                                                                  \n",
      "SCORE:                                                                              \n",
      "0.6734210393669036                                                                  \n",
      "SCORE:                                                                              \n",
      "0.676495791118504                                                                   \n",
      "SCORE:                                                                              \n",
      "0.6765461968849237                                                                  \n",
      "SCORE:                                                                              \n",
      "0.6748324008266545                                                                  \n",
      "SCORE:                                                                              \n",
      "0.6780079641110943                                                                  \n",
      "SCORE:                                                                              \n",
      "0.6864761328696003                                                                  \n",
      "SCORE:                                                                              \n",
      "0.68652653863602                                                                    \n",
      "SCORE:                                                                              \n",
      "0.6871818135994758                                                                  \n",
      "SCORE:                                                                              \n",
      "0.6777559352789959                                                                  \n",
      "SCORE:                                                                              \n",
      "0.6737738797318413                                                                  \n",
      "SCORE:                                                                              \n",
      "0.7264479056404053                                                                  \n",
      "SCORE:                                                                              \n",
      "0.6602651343313675                                                                  \n",
      "SCORE:                                                                              \n",
      "0.6801754120671405                                                                  \n",
      "SCORE:                                                                              \n",
      "0.6642975956449417                                                                  \n",
      "SCORE:                                                                              \n",
      "0.6658097686375322                                                                  \n",
      "SCORE:                                                                              \n",
      "0.6756388930893694                                                                  \n",
      "SCORE:                                                                              \n",
      "0.6845103079792328                                                                  \n",
      "SCORE:                                                                              \n",
      "0.6763949795856646                                                                  \n",
      "SCORE:                                                                              \n",
      "0.6773022833812188                                                                  \n",
      "SCORE:                                                                              \n",
      "0.685266394475528                                                                   \n",
      "SCORE:                                                                              \n",
      "0.6789152679066485                                                                  \n",
      "SCORE:                                                                              \n",
      "0.6796713544029437                                                                  \n",
      "SCORE:                                                                              \n",
      "0.6744795604617169                                                                  \n",
      "SCORE:                                                                              \n",
      "0.6822420484903473                                                                  \n",
      "SCORE:                                                                              \n",
      "0.6772014718483794                                                                  \n",
      "SCORE:                                                                              \n",
      "0.6768990372498613                                                                  \n",
      "SCORE:                                                                              \n",
      "0.7267503402389234                                                                  \n",
      "SCORE:                                                                              \n",
      "0.6785624275417108                                                                  \n",
      "SCORE:                                                                              \n",
      "0.7270527748374414                                                                  \n",
      "SCORE:                                                                              \n",
      "0.6862745098039216                                                                  \n",
      "SCORE:                                                                              \n",
      "0.6856192348404657                                                                  \n",
      "SCORE:                                                                              \n",
      "0.685115177176269                                                                   \n",
      "SCORE:                                                                              \n",
      "0.6773526891476385                                                                  \n",
      "SCORE:                                                                              \n",
      "0.6859216694389838                                                                  \n",
      "SCORE:                                                                              \n",
      "0.6798729774686224                                                                  \n",
      "SCORE:                                                                              \n",
      "0.6807802812641767                                                                  \n",
      "SCORE:                                                                              \n",
      "0.6858208579061444                                                                  \n",
      "SCORE:                                                                              \n",
      "0.6836534099500983                                                                  \n",
      "SCORE:                                                                              \n",
      "0.6827461061545441                                                                  \n",
      "SCORE:                                                                              \n",
      "0.6743283431624578                                                                  \n",
      "SCORE:                                                                              \n",
      "0.7277584555673169                                                                  \n",
      "SCORE:                                                                              \n",
      "0.6830485407530622                                                                  \n",
      "SCORE:                                                                              \n",
      "0.6888452038913252                                                                  \n",
      "SCORE:                                                                              \n",
      "0.6787640506073895                                                                  \n",
      "SCORE:                                                                              \n",
      "0.6850143656434297                                                                  \n",
      "SCORE:                                                                              \n",
      "0.6829477292202228                                                                  \n",
      "SCORE:                                                                              \n",
      "0.6814355562276324                                                                  \n",
      "SCORE:                                                                              \n",
      "0.6769998487827007                                                                  \n",
      "SCORE:                                                                              \n",
      "0.6819396138918292                                                                  \n",
      "SCORE:                                                                              \n",
      "0.6801250063007208                                                                  \n",
      "SCORE:                                                                              \n",
      "0.6800746005343011                                                                  \n",
      "SCORE:                                                                              \n",
      "0.6734210393669036                                                                  \n",
      "SCORE:                                                                              \n",
      "0.7274056152023791                                                                  \n",
      "SCORE:                                                                              \n",
      "0.6746811835273956                                                                  \n",
      "SCORE:                                                                              \n",
      "0.6839558445486164                                                                  \n",
      "SCORE:                                                                              \n",
      "0.6799233832350421                                                                  \n",
      "SCORE:                                                                              \n",
      "0.7276072382680578                                                                  \n",
      "SCORE:                                                                              \n",
      "0.6675739704622209                                                                  \n",
      "SCORE:                                                                              \n",
      "0.6707495337466606                                                                  \n",
      "SCORE:                                                                              \n",
      "0.6723121125056707                                                                  \n",
      "SCORE:                                                                              \n",
      "0.6666666666666666                                                                  \n",
      "SCORE:                                                                              \n",
      "0.6753364584908513                                                                  \n",
      "SCORE:                                                                              \n",
      "0.6633398860829679                                                                  \n",
      "SCORE:                                                                              \n",
      "0.6698926357175261                                                                  \n",
      "SCORE:                                                                              \n",
      "0.6746307777609759                                                                  \n",
      "SCORE:                                                                              \n",
      "0.6656081455718534                                                                  \n",
      "SCORE:                                                                              \n",
      "0.6742779373960381                                                                  \n",
      "SCORE:                                                                              \n",
      "0.6759917334543072                                                                  \n",
      "SCORE:                                                                              \n",
      "0.6774535006804778                                                                  \n",
      "SCORE:                                                                              \n",
      "0.6701950703160442                                                                  \n",
      "SCORE:                                                                              \n",
      "0.6601139170321084                                                                  \n",
      "SCORE:                                                                              \n",
      "0.6706991279802409                                                                  \n",
      "SCORE:                                                                              \n",
      "0.6726649528706083                                                                  \n",
      "SCORE:                                                                              \n",
      "0.6716064317757952                                                                  \n",
      "SCORE:                                                                              \n",
      "0.6785120217752911                                                                  \n",
      "SCORE:                                                                              \n"
     ]
    },
    {
     "name": "stdout",
     "output_type": "stream",
     "text": [
      "0.7279096728665759                                                                  \n",
      "SCORE:                                                                              \n",
      "0.6621301476888957                                                                  \n",
      "SCORE:                                                                              \n",
      "0.6654569282725944                                                                  \n",
      "SCORE:                                                                              \n",
      "0.6546196884923635                                                                  \n",
      "SCORE:                                                                              \n",
      "0.6639447552800041                                                                  \n",
      "SCORE:                                                                              \n",
      "0.6688845203891325                                                                  \n",
      "SCORE:                                                                              \n",
      "0.6673219416301225                                                                  \n",
      "SCORE:                                                                              \n",
      "0.6589041786380362                                                                  \n",
      "SCORE:                                                                              \n",
      "0.6548717173244619                                                                  \n",
      "SCORE:                                                                              \n",
      "0.7278592671001562                                                                  \n",
      "SCORE:                                                                              \n",
      "0.6624829880538333                                                                  \n",
      "SCORE:                                                                              \n",
      "0.6660113917032109                                                                  \n",
      "SCORE:                                                                              \n",
      "0.6685820857906144                                                                  \n",
      "SCORE:                                                                              \n",
      "0.665356116739755                                                                   \n",
      "SCORE:                                                                              \n",
      "0.6593578305358133                                                                  \n",
      "SCORE:                                                                              \n",
      "0.667876405060739                                                                   \n",
      "SCORE:                                                                              \n",
      "0.669590201119008                                                                   \n",
      "SCORE:                                                                              \n",
      "0.6646000302434598                                                                  \n",
      "SCORE:                                                                              \n",
      "0.6741267200967791                                                                  \n",
      "SCORE:                                                                              \n",
      "0.6705479106809819                                                                  \n",
      "SCORE:                                                                              \n",
      "0.6683300569585161                                                                  \n",
      "SCORE:                                                                              \n",
      "0.7273048036695398                                                                  \n",
      "SCORE:                                                                              \n",
      "0.6683300569585161                                                                  \n",
      "SCORE:                                                                              \n",
      "0.6621301476888957                                                                  \n",
      "SCORE:                                                                              \n",
      "0.6618277130903776                                                                  \n",
      "SCORE:                                                                              \n",
      "0.676647008417763                                                                   \n",
      "SCORE:                                                                              \n",
      "0.6570391652805081                                                                  \n",
      "SCORE:                                                                              \n",
      "0.6671707243308634                                                                  \n",
      "SCORE:                                                                              \n",
      "0.67397550279752                                                                    \n",
      "SCORE:                                                                              \n",
      "0.6751348354251726                                                                  \n",
      "SCORE:                                                                              \n",
      "0.6682796511920964                                                                  \n",
      "SCORE:                                                                              \n",
      "0.6701446645496245                                                                  \n",
      "SCORE:                                                                              \n",
      "0.6751348354251726                                                                  \n",
      "SCORE:                                                                              \n",
      "0.6675235646958012                                                                  \n",
      "SCORE:                                                                              \n",
      "0.6706991279802409                                                                  \n",
      "SCORE:                                                                              \n",
      "0.6764453853520843                                                                  \n",
      "SCORE:                                                                              \n",
      "0.7275568325016382                                                                  \n",
      "SCORE:                                                                              \n",
      "0.6792681082715862                                                                  \n",
      "SCORE:                                                                              \n",
      "0.669438983819749                                                                   \n",
      "SCORE:                                                                              \n",
      "0.6591562074701346                                                                  \n",
      "SCORE:                                                                              \n",
      "0.6783103987096124                                                                  \n",
      "SCORE:                                                                              \n",
      "0.6658097686375322                                                                  \n",
      "SCORE:                                                                              \n",
      "0.6816371792933111                                                                  \n",
      "SCORE:                                                                              \n",
      "0.6657089571046928                                                                  \n",
      "SCORE:                                                                              \n",
      "0.6742275316296185                                                                  \n",
      "SCORE:                                                                              \n",
      "0.7278088613337366                                                                  \n",
      "SCORE:                                                                              \n",
      "0.6759917334543072                                                                  \n",
      "SCORE:                                                                              \n",
      "0.6745803719945562                                                                  \n",
      "SCORE:                                                                              \n",
      "0.6707999395130803                                                                  \n",
      "SCORE:                                                                              \n",
      "0.673673068199002                                                                   \n",
      "SCORE:                                                                              \n",
      "0.6762437622864056                                                                  \n",
      "SCORE:                                                                              \n",
      "0.7287161651292908                                                                  \n",
      "SCORE:                                                                              \n",
      "0.6758909219214678                                                                  \n",
      "SCORE:                                                                              \n",
      "0.6763949795856646                                                                  \n",
      "SCORE:                                                                              \n",
      "0.6790160794394878                                                                  \n",
      "SCORE:                                                                              \n",
      "0.6793185140380059                                                                  \n",
      "SCORE:                                                                              \n",
      "0.6715560260093755                                                                  \n",
      "SCORE:                                                                              \n",
      "0.6710519683451787                                                                  \n",
      "SCORE:                                                                              \n",
      "0.6729169817027068                                                                  \n",
      "SCORE:                                                                              \n",
      "0.6634406976158073                                                                  \n",
      "SCORE:                                                                              \n",
      "0.6704470991481426                                                                  \n",
      "SCORE:                                                                              \n",
      "0.6735722566661626                                                                  \n",
      "SCORE:                                                                              \n",
      "0.6562326730177932                                                                  \n",
      "SCORE:                                                                              \n",
      "0.6760421392207269                                                                  \n",
      "SCORE:                                                                              \n",
      "0.6755884873229497                                                                  \n",
      "SCORE:                                                                              \n",
      "0.7272039921367004                                                                  \n",
      "SCORE:                                                                              \n",
      "0.7287665708957105                                                                  \n",
      "SCORE:                                                                              \n",
      "0.676495791118504                                                                   \n",
      "SCORE:                                                                              \n",
      "0.6756892988557891                                                                  \n",
      "SCORE:                                                                              \n",
      "0.6768486314834417                                                                  \n",
      "SCORE:                                                                              \n",
      "0.6777055295125762                                                                  \n",
      "SCORE:                                                                              \n",
      "0.6744795604617169                                                                  \n",
      "SCORE:                                                                              \n",
      "0.6790160794394878                                                                  \n",
      "SCORE:                                                                              \n",
      "0.6745299662281365                                                                  \n",
      "SCORE:                                                                              \n",
      "0.6765966026513434                                                                  \n",
      "SCORE:                                                                              \n",
      "0.681334744694793                                                                   \n",
      "SCORE:                                                                              \n",
      "0.6804274408992389                                                                  \n",
      "SCORE:                                                                              \n",
      "0.7265991229396643                                                                  \n",
      "SCORE:                                                                              \n",
      "0.6726145471041887                                                                  \n",
      "SCORE:                                                                              \n",
      "0.6777055295125762                                                                  \n",
      "SCORE:                                                                              \n",
      "0.6776551237461566                                                                  \n",
      "SCORE:                                                                              \n",
      "0.6773526891476385                                                                  \n",
      "SCORE:                                                                              \n",
      "0.6708503452794999                                                                  \n",
      "SCORE:                                                                              \n",
      "0.6755380815565301                                                                  \n",
      "SCORE:                                                                              \n",
      "0.6777559352789959                                                                  \n",
      "SCORE:                                                                              \n",
      "0.7263974998739856                                                                  \n",
      "SCORE:                                                                              \n",
      "0.6748324008266545                                                                  \n",
      "SCORE:                                                                              \n",
      "0.6695397953525883                                                                  \n",
      "SCORE:                                                                              \n",
      "0.6744291546952972                                                                  \n",
      "SCORE:                                                                              \n",
      "0.672261706739251                                                                   \n",
      "SCORE:                                                                              \n",
      "0.6745803719945562                                                                  \n",
      "SCORE:                                                                              \n",
      "0.6720096779071526                                                                  \n",
      "SCORE:                                                                              \n",
      "0.6756892988557891                                                                  \n",
      "SCORE:                                                                              \n",
      "0.6798225717022027                                                                  \n",
      "SCORE:                                                                              \n",
      "0.7279600786329956                                                                  \n",
      "SCORE:                                                                              \n",
      "0.6761429507535662                                                                  \n",
      "SCORE:                                                                              \n"
     ]
    },
    {
     "name": "stdout",
     "output_type": "stream",
     "text": [
      "0.6760925449871465                                                                  \n",
      "SCORE:                                                                              \n",
      "0.6768990372498613                                                                  \n",
      "SCORE:                                                                              \n",
      "0.671152779878018                                                                   \n",
      "SCORE:                                                                              \n",
      "0.6775543122133172                                                                  \n",
      "SCORE:                                                                              \n",
      "0.6766974141841827                                                                  \n",
      "SCORE:                                                                              \n",
      "0.6748324008266545                                                                  \n",
      "SCORE:                                                                              \n",
      "0.6786128333081305                                                                  \n",
      "SCORE:                                                                              \n",
      "0.6795201371036846                                                                  \n",
      "SCORE:                                                                              \n",
      "0.678209587176773                                                                   \n",
      "SCORE:                                                                              \n",
      "0.6742275316296185                                                                  \n",
      "SCORE:                                                                              \n",
      "0.7287161651292908                                                                  \n",
      "SCORE:                                                                              \n",
      "0.6725641413377691                                                                  \n",
      "SCORE:                                                                              \n",
      "0.6710519683451787                                                                  \n",
      "SCORE:                                                                              \n",
      "0.6716064317757952                                                                  \n",
      "SCORE:                                                                              \n",
      "0.6759917334543072                                                                  \n",
      "SCORE:                                                                              \n",
      "0.673824285498261                                                                   \n",
      "SCORE:                                                                              \n",
      "0.6728161701698674                                                                  \n",
      "SCORE:                                                                              \n",
      "0.6723121125056707                                                                  \n",
      "SCORE:                                                                              \n",
      "0.6716568375422148                                                                  \n",
      "SCORE:                                                                              \n",
      "0.6706991279802409                                                                  \n",
      "SCORE:                                                                              \n",
      "0.6728161701698674                                                                  \n",
      "SCORE:                                                                              \n",
      "0.7270023690710217                                                                  \n",
      "SCORE:                                                                              \n",
      "0.6762941680528253                                                                  \n",
      "SCORE:                                                                              \n",
      "0.6763949795856646                                                                  \n",
      "SCORE:                                                                              \n",
      "0.6763949795856646                                                                  \n",
      "SCORE:                                                                              \n",
      "0.6760925449871465                                                                  \n",
      "SCORE:                                                                              \n",
      "0.677907152578255                                                                   \n",
      "SCORE:                                                                              \n",
      "0.6765461968849237                                                                  \n",
      "SCORE:                                                                              \n",
      "0.6704470991481426                                                                  \n",
      "SCORE:                                                                              \n",
      "0.7276072382680578                                                                  \n",
      "SCORE:                                                                              \n",
      "0.6701950703160442                                                                  \n",
      "SCORE:                                                                              \n",
      "0.6746307777609759                                                                  \n",
      "SCORE:                                                                              \n",
      "0.6780079641110943                                                                  \n",
      "SCORE:                                                                              \n",
      "0.6748828065930742                                                                  \n",
      "SCORE:                                                                              \n",
      "0.6746811835273956                                                                  \n",
      "SCORE:                                                                              \n",
      "0.6727657644034477                                                                  \n",
      "SCORE:                                                                              \n",
      "0.6761429507535662                                                                  \n",
      "SCORE:                                                                              \n",
      "0.6725641413377691                                                                  \n",
      "SCORE:                                                                              \n",
      "0.6743787489288775                                                                  \n",
      "SCORE:                                                                              \n",
      "0.6702454760824639                                                                  \n",
      "SCORE:                                                                              \n",
      "0.7268511517717627                                                                  \n",
      "SCORE:                                                                              \n",
      "0.6698422299511064                                                                  \n",
      "SCORE:                                                                              \n",
      "0.6793185140380059                                                                  \n",
      "SCORE:                                                                              \n",
      "0.6778063410454156                                                                  \n",
      "SCORE:                                                                              \n",
      "0.6733706336004839                                                                  \n",
      "SCORE:                                                                              \n",
      "0.6754876757901104                                                                  \n",
      "SCORE:                                                                              \n",
      "0.6740259085639397                                                                  \n",
      "SCORE:                                                                              \n",
      "0.6778063410454156                                                                  \n",
      "SCORE:                                                                              \n",
      "0.6718584606078936                                                                  \n",
      "SCORE:                                                                              \n",
      "0.681183527395534                                                                   \n",
      "SCORE:                                                                              \n",
      "0.6742779373960381                                                                  \n",
      "SCORE:                                                                              \n",
      "0.6720600836735723                                                                  \n",
      "SCORE:                                                                              \n",
      "0.6751852411915923                                                                  \n",
      "SCORE:                                                                              \n",
      "0.6797217601693634                                                                  \n",
      "SCORE:                                                                              \n",
      "0.6811331216291143                                                                  \n",
      "SCORE:                                                                              \n",
      "0.6661122032360502                                                                  \n",
      "SCORE:                                                                              \n",
      "0.6772518776147991                                                                  \n",
      "SCORE:                                                                              \n",
      "0.7277080498008972                                                                  \n",
      "SCORE:                                                                              \n",
      "0.6705479106809819                                                                  \n",
      "SCORE:                                                                              \n",
      "0.676949443016281                                                                   \n",
      "SCORE:                                                                              \n",
      "0.6733706336004839                                                                  \n",
      "SCORE:                                                                              \n",
      "0.6725641413377691                                                                  \n",
      "SCORE:                                                                              \n",
      "0.6773022833812188                                                                  \n",
      "SCORE:                                                                              \n",
      "0.726649528706084                                                                   \n",
      "SCORE:                                                                              \n",
      "0.6729673874691264                                                                  \n",
      "SCORE:                                                                              \n",
      "0.6807802812641767                                                                  \n",
      "SCORE:                                                                              \n",
      "0.6744795604617169                                                                  \n",
      "SCORE:                                                                              \n",
      "0.6773022833812188                                                                  \n",
      "SCORE:                                                                              \n",
      "0.6687837088562931                                                                  \n",
      "SCORE:                                                                              \n",
      "0.6689349261555522                                                                  \n",
      "SCORE:                                                                              \n",
      "0.6723625182720904                                                                  \n",
      "SCORE:                                                                              \n",
      "0.673824285498261                                                                   \n",
      "SCORE:                                                                              \n",
      "0.6760421392207269                                                                  \n",
      "SCORE:                                                                              \n",
      "0.678058369877514                                                                   \n",
      "SCORE:                                                                              \n",
      "0.6788144563738092                                                                  \n",
      "SCORE:                                                                              \n",
      "0.6800746005343011                                                                  \n",
      "SCORE:                                                                              \n",
      "0.7270023690710217                                                                  \n",
      "SCORE:                                                                              \n",
      "0.6733706336004839                                                                  \n",
      "SCORE:                                                                              \n",
      "0.6727657644034477                                                                  \n",
      "SCORE:                                                                              \n",
      "0.6716568375422148                                                                  \n",
      "SCORE:                                                                              \n",
      "0.6659105801703715                                                                  \n",
      "SCORE:                                                                              \n",
      "0.6794193255708453                                                                  \n",
      "SCORE:                                                                              \n",
      "0.6679772165935783                                                                  \n",
      "SCORE:                                                                              \n",
      "0.6792177025051666                                                                  \n",
      "SCORE:                                                                              \n",
      "0.672715358637028                                                                   \n",
      "SCORE:                                                                              \n",
      "0.6778063410454156                                                                  \n",
      "SCORE:                                                                              \n",
      "0.6741267200967791                                                                  \n",
      "SCORE:                                                                              \n",
      "0.6744291546952972                                                                  \n",
      "SCORE:                                                                              \n",
      "0.7286153535964515                                                                  \n",
      "SCORE:                                                                              \n",
      "0.6800241947678815                                                                  \n",
      "SCORE:                                                                              \n",
      "0.6835525984172589                                                                  \n",
      "SCORE:                                                                              \n",
      "0.6800241947678815                                                                  \n",
      "SCORE:                                                                              \n",
      "0.6765461968849237                                                                  \n",
      "SCORE:                                                                              \n",
      "0.6778567468118353                                                                  \n",
      "SCORE:                                                                              \n",
      "0.675386864257271                                                                   \n",
      "SCORE:                                                                              \n",
      "0.679469731337265                                                                   \n",
      "SCORE:                                                                              \n"
     ]
    },
    {
     "name": "stdout",
     "output_type": "stream",
     "text": [
      "0.7288169766621302                                                                  \n",
      "SCORE:                                                                              \n",
      "0.6826957003881244                                                                  \n",
      "SCORE:                                                                              \n",
      "0.7274056152023791                                                                  \n",
      "SCORE:                                                                              \n",
      "0.6827965119209638                                                                  \n",
      "SCORE:                                                                              \n",
      "0.6833005695851605                                                                  \n",
      "SCORE:                                                                              \n",
      "0.683855033015777                                                                   \n",
      "SCORE:                                                                              \n",
      "0.6819900196582489                                                                  \n",
      "SCORE:                                                                              \n",
      "0.6799737890014618                                                                  \n",
      "SCORE:                                                                              \n",
      "0.6842078733807148                                                                  \n",
      "SCORE:                                                                              \n",
      "0.6794193255708453                                                                  \n",
      "SCORE:                                                                              \n",
      "0.6761429507535662                                                                  \n",
      "SCORE:                                                                              \n",
      "0.6772518776147991                                                                  \n",
      "SCORE:                                                                              \n",
      "0.6786632390745502                                                                  \n",
      "SCORE:                                                                              \n",
      "0.6817883965925702                                                                  \n",
      "SCORE:                                                                              \n",
      "0.6842078733807148                                                                  \n",
      "100%|██████████| 400/400 [03:27<00:00,  1.93trial/s, best loss: -0.7288169766621302]\n"
     ]
    }
   ],
   "source": [
    "trials = Trials()\n",
    "\n",
    "best_hyperparams = fmin(fn = objective,\n",
    "                        space = space,\n",
    "                        algo = tpe.suggest,\n",
    "                        max_evals = 400,\n",
    "                        trials = trials)"
   ]
  },
  {
   "cell_type": "code",
   "execution_count": 198,
   "id": "d1cece83",
   "metadata": {},
   "outputs": [
    {
     "name": "stdout",
     "output_type": "stream",
     "text": [
      "{'alpha': 149.0, 'colsample_bytree': 1.0, 'eta': 0.32, 'gamma': 0.67, 'lambda': 0.5711731813185805, 'max_depth': 3, 'min_child_weight': 1.2750000000000001, 'n_estimators': 642, 'subsample': 0.785}\n"
     ]
    }
   ],
   "source": [
    "print(best_hyperparams)"
   ]
  },
  {
   "cell_type": "code",
   "execution_count": 199,
   "id": "323a000f",
   "metadata": {},
   "outputs": [],
   "source": [
    "xgboost_best=xgb.XGBClassifier(**best_hyperparams)"
   ]
  },
  {
   "cell_type": "code",
   "execution_count": 200,
   "id": "c262689d",
   "metadata": {},
   "outputs": [],
   "source": [
    "evaluation = [( train, target), ( test, target_test)]\n",
    "xgboost_best.fit(train, target, eval_set=evaluation, eval_metric=\"auc\", early_stopping_rounds=10,verbose=False)\n",
    "pred = xgboost_best.predict(test)"
   ]
  },
  {
   "cell_type": "code",
   "execution_count": 201,
   "id": "47ebf7b2",
   "metadata": {},
   "outputs": [
    {
     "name": "stdout",
     "output_type": "stream",
     "text": [
      "              precision    recall  f1-score   support\n",
      "\n",
      "           0       0.72      0.76      0.74     10124\n",
      "           1       0.73      0.69      0.71      9715\n",
      "\n",
      "    accuracy                           0.73     19839\n",
      "   macro avg       0.73      0.73      0.73     19839\n",
      "weighted avg       0.73      0.73      0.73     19839\n",
      "\n"
     ]
    }
   ],
   "source": [
    "print(classification_report(target_test, pred))"
   ]
  },
  {
   "cell_type": "code",
   "execution_count": 202,
   "id": "55f2bec5",
   "metadata": {},
   "outputs": [],
   "source": [
    "pickle.dump(xgboost_best, open('xgboost_best.pkl', 'wb'))"
   ]
  },
  {
   "cell_type": "code",
   "execution_count": 204,
   "id": "e9b00fcc",
   "metadata": {},
   "outputs": [],
   "source": [
    "pred = xgboost_best.predict(test)"
   ]
  },
  {
   "cell_type": "code",
   "execution_count": null,
   "id": "b49ee15e",
   "metadata": {},
   "outputs": [],
   "source": [
    "print(classification_report(target_test, pred))"
   ]
  },
  {
   "cell_type": "markdown",
   "id": "4eb2afc8",
   "metadata": {},
   "source": [
    "# Voting"
   ]
  },
  {
   "cell_type": "code",
   "execution_count": 26,
   "id": "c642242d",
   "metadata": {},
   "outputs": [],
   "source": [
    "# loaded_logreg = pickle.load(open('logreg_best.pkl', 'rb'))\n",
    "# loaded_svc = pickle.load(open('svc_best.pkl', 'rb'))\n",
    "# loaded_knn = pickle.load(open('knn_best.pkl', 'rb'))\n",
    "# loaded_forest = pickle.load(open('forest_best.pkl', 'rb'))\n",
    "# loaded_xgb = pickle.load(open('xgboost_best.pkl', 'rb'))"
   ]
  },
  {
   "cell_type": "code",
   "execution_count": 36,
   "id": "45afd095",
   "metadata": {},
   "outputs": [],
   "source": [
    "logreg_params={'C': 0.1, 'penalty': 'l2', 'solver': 'newton-cg'}\n",
    "svc_params = {'C': 0.01, 'dual': False, 'loss': 'squared_hinge', 'penalty': 'l2'}\n",
    "knn_params = {'n_neighbors': 35, 'weights': 'uniform'}\n",
    "rf_params = {'bootstrap': True,\n",
    "             'criterion': 'gini',\n",
    "             'max_depth': 10,\n",
    "             'max_features': 'auto',\n",
    "             'min_samples_leaf': 1,\n",
    "             'min_samples_split': 5,\n",
    "             'n_estimators': 50}\n",
    "xgb_params = {'alpha': 149.0, \n",
    "              'colsample_bytree': 1.0, \n",
    "              'eta': 0.32, 'gamma': 0.67, \n",
    "              'lambda': 0.5711731813185805, \n",
    "              'max_depth': 3, 'min_child_weight': 1.2750000000000001, \n",
    "              'n_estimators': 642, \n",
    "              'subsample': 0.785}"
   ]
  },
  {
   "cell_type": "code",
   "execution_count": 37,
   "id": "2980b78b",
   "metadata": {},
   "outputs": [],
   "source": [
    "scaler = MinMaxScaler()\n",
    "\n",
    "logreg = LogisticRegression(**logreg_params)\n",
    "logreg_pipe = Pipeline(steps=[(\"scaler\", scaler), (\"logreg\", logreg)])\n",
    "\n",
    "svc = LinearSVC(**svc_params)\n",
    "svc_pipe = Pipeline(steps=[(\"scaler\", scaler), (\"svc\", svc)])\n",
    "\n",
    "knn = KNeighborsClassifier(**knn_params)\n",
    "knn_pipe = Pipeline(steps=[(\"scaler\", scaler), (\"knn\", knn)])\n",
    "\n",
    "forest = RandomForestClassifier(**rf_params)\n",
    "\n",
    "xgboost_best=xgb.XGBClassifier(**xgb_params)"
   ]
  },
  {
   "cell_type": "code",
   "execution_count": 53,
   "id": "1cc6bbb8",
   "metadata": {},
   "outputs": [],
   "source": [
    "Voting_Classifier_hard = VotingClassifier(estimators=[('logreg', logreg_pipe), ('rf', forest), ('xgb', xgboost_best)], voting='soft')"
   ]
  },
  {
   "cell_type": "code",
   "execution_count": 38,
   "id": "6a86efd7",
   "metadata": {},
   "outputs": [],
   "source": [
    "# Voting_Classifier_hard = VotingClassifier(estimators=[('logreg', loaded_logreg), ('svc', loaded_svc), ('knn', loaded_knn), ('rf', loaded_forest), ('xgb', loaded_xgb)], voting='hard')"
   ]
  },
  {
   "cell_type": "code",
   "execution_count": 54,
   "id": "fdfefc67",
   "metadata": {},
   "outputs": [
    {
     "name": "stdout",
     "output_type": "stream",
     "text": [
      "[10:02:50] WARNING: D:\\bld\\xgboost-split_1645118015404\\work\\src\\learner.cc:1115: Starting in XGBoost 1.3.0, the default evaluation metric used with the objective 'binary:logistic' was changed from 'error' to 'logloss'. Explicitly set eval_metric if you'd like to restore the old behavior.\n"
     ]
    },
    {
     "data": {
      "text/plain": [
       "VotingClassifier(estimators=[('logreg',\n",
       "                              Pipeline(steps=[('scaler', MinMaxScaler()),\n",
       "                                              ('logreg',\n",
       "                                               LogisticRegression(C=0.1,\n",
       "                                                                  solver='newton-cg'))])),\n",
       "                             ('rf',\n",
       "                              RandomForestClassifier(max_depth=10,\n",
       "                                                     min_samples_split=5,\n",
       "                                                     n_estimators=50)),\n",
       "                             ('xgb',\n",
       "                              XGBClassifier(alpha=149.0, base_score=None,\n",
       "                                            booster=None,\n",
       "                                            colsample_bylevel=None,\n",
       "                                            colsample_bynode=None,\n",
       "                                            colsample_bytree=1.0,\n",
       "                                            en...\n",
       "                                            lambda=0.5711731813185805,\n",
       "                                            learning_rate=None,\n",
       "                                            max_delta_step=None, max_depth=3,\n",
       "                                            min_child_weight=1.2750000000000001,\n",
       "                                            missing=nan,\n",
       "                                            monotone_constraints=None,\n",
       "                                            n_estimators=642, n_jobs=None,\n",
       "                                            num_parallel_tree=None,\n",
       "                                            predictor=None, random_state=None,\n",
       "                                            reg_alpha=None, reg_lambda=None,\n",
       "                                            scale_pos_weight=None,\n",
       "                                            subsample=0.785, tree_method=None,\n",
       "                                            validate_parameters=None, ...))],\n",
       "                 voting='soft')"
      ]
     },
     "execution_count": 54,
     "metadata": {},
     "output_type": "execute_result"
    }
   ],
   "source": [
    "Voting_Classifier_hard.fit(train, target)"
   ]
  },
  {
   "cell_type": "code",
   "execution_count": 55,
   "id": "a8ca902d",
   "metadata": {},
   "outputs": [],
   "source": [
    "pred = Voting_Classifier_hard.predict(test)"
   ]
  },
  {
   "cell_type": "code",
   "execution_count": 56,
   "id": "d41bff7b",
   "metadata": {},
   "outputs": [
    {
     "name": "stdout",
     "output_type": "stream",
     "text": [
      "              precision    recall  f1-score   support\n",
      "\n",
      "           0       0.71      0.78      0.74     10124\n",
      "           1       0.74      0.68      0.71      9715\n",
      "\n",
      "    accuracy                           0.73     19839\n",
      "   macro avg       0.73      0.73      0.73     19839\n",
      "weighted avg       0.73      0.73      0.73     19839\n",
      "\n"
     ]
    }
   ],
   "source": [
    "print(classification_report(target_test, pred))"
   ]
  },
  {
   "cell_type": "code",
   "execution_count": 57,
   "id": "5494dd84",
   "metadata": {},
   "outputs": [],
   "source": [
    "pickle.dump(Voting_Classifier_hard, open('voting_final.pkl', 'wb'))"
   ]
  }
 ],
 "metadata": {
  "kernelspec": {
   "display_name": "Python 3 (ipykernel)",
   "language": "python",
   "name": "python3"
  },
  "language_info": {
   "codemirror_mode": {
    "name": "ipython",
    "version": 3
   },
   "file_extension": ".py",
   "mimetype": "text/x-python",
   "name": "python",
   "nbconvert_exporter": "python",
   "pygments_lexer": "ipython3",
   "version": "3.9.7"
  }
 },
 "nbformat": 4,
 "nbformat_minor": 5
}
